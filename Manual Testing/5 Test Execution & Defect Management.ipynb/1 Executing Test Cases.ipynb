{
 "cells": [
  {
   "cell_type": "markdown",
   "id": "d39cdf97",
   "metadata": {},
   "source": [
    "#### **✅ 1. Executing Test Cases**\n",
    "\n",
    "> *\"Writing test cases is the theory. Executing them is the real-world practical – where things fall apart and bugs scream for attention.\"*"
   ]
  },
  {
   "cell_type": "markdown",
   "id": "3e174951",
   "metadata": {},
   "source": [
    "#### **🔍 What is Test Execution?**\n",
    "\n",
    "**Test Execution** is the phase in the **STLC (Software Testing Life Cycle)** where testers **run the prepared test cases** against the software to:\n",
    "\n",
    "- ✅ Check if the application behaves as expected (positive results)\n",
    "\n",
    "- ❌ Identify mismatches (defects/bugs)\n",
    "\n",
    "This is the **“Let’s see what breaks” moment.**"
   ]
  },
  {
   "cell_type": "markdown",
   "id": "79519f26",
   "metadata": {},
   "source": [
    "----------"
   ]
  },
  {
   "cell_type": "markdown",
   "id": "7008dd7f",
   "metadata": {},
   "source": [
    "#### **🛠 Pre-requisites Before Test Execution**\n",
    "\n",
    "| **Item**                | **Purpose**                                                      |\n",
    "|--------------------------|------------------------------------------------------------------|\n",
    "| ✅ Finalized Test Cases   | Must be reviewed, approved                                       |\n",
    "| ✅ Stable Build           | App should be deployed to Test/QA environment                   |\n",
    "| ✅ Test Data Ready        | Valid & invalid data inputs needed                              |\n",
    "| ✅ Test Environment Setup | DB, server, APIs, devices — must all be ready                   |\n",
    "| ✅ Entry Criteria Met     | Requirements signed off, bugs from previous build fixed         |\n"
   ]
  },
  {
   "cell_type": "markdown",
   "id": "00ca9460",
   "metadata": {},
   "source": [
    "#### **🎯 What Happens During Execution?**\n",
    "\n",
    "| **Step** | **Activity**                                                                 |\n",
    "|----------|------------------------------------------------------------------------------|\n",
    "| 1.       | **Open Test Case** – From test management tool (Excel, Jira, TestRail, etc.) |\n",
    "| 2.       | **Execute Step-by-Step** – Perform actions as per test case instructions     |\n",
    "| 3.       | **Record Actual Result** – Note what actually happens (UI issue? crash?)     |\n",
    "| 4.       | **Compare** – Expected vs Actual → Match = ✅ Pass, Mismatch = ❌ Fail        |\n",
    "| 5.       | **Log Defects** – For failed cases, raise bugs with full details (see next)  |\n"
   ]
  },
  {
   "cell_type": "markdown",
   "id": "fa947747",
   "metadata": {},
   "source": [
    "#### **🧪 Example:**\n",
    "\n",
    "**Test Case:** Login with valid credentials\n",
    "\n",
    "- ✅ **Expected**: User lands on dashboard\n",
    "\n",
    "- ❌ **Actual**: Page keeps loading… and then “502 Gateway Timeout”\n",
    "\n",
    "🎯 **Result: FAIL** → Log defect in bug tracker"
   ]
  },
  {
   "cell_type": "markdown",
   "id": "efde5461",
   "metadata": {},
   "source": [
    "-------"
   ]
  },
  {
   "cell_type": "markdown",
   "id": "eb56fb9b",
   "metadata": {},
   "source": [
    "#### **🔄 Status of Test Cases During Execution**\n",
    "\n",
    "| **Status**     | **Meaning**                                                   |\n",
    "|----------------|---------------------------------------------------------------|\n",
    "| 🟢 Pass         | Actual result = Expected result                                |\n",
    "| 🔴 Fail         | Actual ≠ Expected; needs investigation                         |\n",
    "| 🟡 Blocked      | Cannot test due to a blocker (e.g., server down, dependency)   |\n",
    "| 🔵 Not Run      | Test case not yet executed                                     |\n",
    "| 🟠 In Progress  | Currently being executed                                       |\n"
   ]
  },
  {
   "cell_type": "markdown",
   "id": "aaf058de",
   "metadata": {},
   "source": [
    "#### **👨‍💻 Tools for Execution & Tracking**\n",
    "\n",
    "| **Tool**   | **Usage**                                                       |\n",
    "|------------|------------------------------------------------------------------|\n",
    "| ✅ TestRail | Writing and executing test cases                                |\n",
    "| ✅ Jira     | Logging bugs, assigning them, linking to user stories/test cases |\n",
    "| ✅ Zephyr   | Jira plug-in for full testing workflow (plan, execute, report)   |\n",
    "| ✅ Excel    | Basic test execution when budget = ₹0 😅                         |\n"
   ]
  },
  {
   "cell_type": "markdown",
   "id": "527383ca",
   "metadata": {},
   "source": [
    "#### **🛠 When to Choose What:**\n",
    "\n",
    "- **TestRail** → Best for structured test management & reporting\n",
    "\n",
    "- **Jira + Zephyr** → Perfect combo for Agile QA workflows\n",
    "\n",
    "- **Excel/Sheets** → Great for small teams or early-stage startups"
   ]
  },
  {
   "cell_type": "markdown",
   "id": "934ad1e0",
   "metadata": {},
   "source": [
    "#### **😅 Real-Life Analogy:**\n",
    "\n",
    "> Writing test cases is like making a New Year’s gym plan.\n",
    "\n",
    "> **Test Execution** is when you actually go to the gym and realize it hurts.\n",
    "\n"
   ]
  }
 ],
 "metadata": {
  "language_info": {
   "name": "python"
  }
 },
 "nbformat": 4,
 "nbformat_minor": 5
}
