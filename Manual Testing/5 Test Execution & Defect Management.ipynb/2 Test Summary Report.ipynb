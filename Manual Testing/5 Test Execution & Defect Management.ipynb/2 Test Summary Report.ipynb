{
 "cells": [
  {
   "cell_type": "markdown",
   "id": "f8de0a5e",
   "metadata": {},
   "source": [
    "### **✅ 2. Test Summary Report (TSR)**\n",
    "\n",
    "> *\"The QA’s version of a mic-drop: Here’s what we tested, here’s what broke, and here’s what we’re proud of.\"*\n",
    "\n",
    "#### **📜 What is a Test Summary Report?**\n",
    "\n",
    "A **Test Summary Report** is a **formal document** that provides a **summary of the testing activities** after test execution is complete.\n",
    "It tells stakeholders:\n",
    "\n",
    "- ✅ What was tested\n",
    "\n",
    "- ❌ What failed\n",
    "\n",
    "- 🧠 What’s the quality status\n",
    "\n",
    "- 📈 What can be improved\n",
    "\n",
    "> You don’t just say “testing is done” — you **show the numbers** and **highlight the risks**.\n",
    "\n",
    "#### **🔍 When is it prepared?**\n",
    "\n",
    "- After **test execution is complete**\n",
    "\n",
    "- Before the **project/product release**\n",
    "\n",
    "- As part of **exit criteria** in STLC\n",
    "\n"
   ]
  },
  {
   "cell_type": "markdown",
   "id": "03552b5c",
   "metadata": {},
   "source": [
    "#### **🧾 Test Summary Report – Structure**\n",
    "\n",
    "| **Section**                 | **Description**                                                               |\n",
    "|----------------------------|-------------------------------------------------------------------------------|\n",
    "| 🆔 Test Summary ID          | Unique ID (e.g., TSR-001)                                                     |\n",
    "| 📅 Report Date              | Date of submission                                                            |\n",
    "| 📦 Project/Application Name | Name of the project (e.g., E-commerce Web App)                                |\n",
    "| 🎯 Objective                | Purpose and goal of testing                                                   |\n",
    "| 📋 Test Scope               | What was tested – modules, features, workflows                               |\n",
    "| ❌ Out of Scope             | What was not tested (due to time, risk, or lower priority)                    |\n",
    "| 🧪 Test Environment         | OS, browser, server, DB, APIs – all setup details                            |\n",
    "| 🛠️ Tools Used              | Tools like Selenium, Postman, JMeter, Jira, etc.                             |\n",
    "| 📈 Test Metrics             | Total cases executed, pass %, fail %, defect count, etc.                     |\n",
    "| 🔍 Defect Summary           | Number of bugs, categorized by severity (Critical, Major, Minor, etc.)       |\n",
    "| 📌 Risks & Issues           | Any blockers, unresolved issues or showstoppers                              |\n",
    "| 📌 Lessons Learned          | What went well, what could improve in future cycles                          |\n",
    "| 📢 Conclusion & Sign-off    | Final verdict: \"✅ Ready for Release\" or \"🚨 Hold the horses!\"                |\n"
   ]
  }
 ],
 "metadata": {
  "language_info": {
   "name": "python"
  }
 },
 "nbformat": 4,
 "nbformat_minor": 5
}
