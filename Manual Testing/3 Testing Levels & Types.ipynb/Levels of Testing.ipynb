{
 "cells": [
  {
   "cell_type": "markdown",
   "id": "56d87b68",
   "metadata": {},
   "source": [
    "#### **🔹 1. Unit Testing – “Testing the Lego bricks 🧱”**\n",
    "\n",
    "> **\"Testing each brick before building the wall\"**\n",
    "\n",
    "**What exactyly is it:**\n",
    "\n",
    "Testing a **single unit of code** (function/method/module) **independently** to verify it behaves as expected.\n",
    "\n",
    "**Who does it:**\n",
    "\n",
    "Developers (because they know how they messed it up)\n",
    "\n",
    "**Example:**\n",
    "\n",
    "You write a `calculateDiscount(price)` function. Now, test if it gives 10% off and not 90% off by accident."
   ]
  },
  {
   "cell_type": "markdown",
   "id": "e4c82c30",
   "metadata": {
    "vscode": {
     "languageId": "javascript"
    }
   },
   "source": [
    "calculateDiscount(100) ➝ should return 90, not 10!"
   ]
  },
  {
   "cell_type": "markdown",
   "id": "992c0d8b",
   "metadata": {},
   "source": [
    "#### **Real-world Analogy:**\n",
    "\n",
    "Like testing each LEGO block to ensure it fits, before building the Taj Mahal replica.\n",
    "\n",
    "#### **👀 Clarity Point:**\n",
    "\n",
    "- **Focus is ONLY on individual pieces**\n",
    "\n",
    "- **Mocks and stubs** often used to isolate dependencies (e.g., mock a DB call)\n",
    "\n",
    "##### **Sarcasm mode on:**\n",
    "\n",
    "“Yes, the login button works... but only the button. No one can actually log in. But hey, unit tests passed!” 🎉"
   ]
  },
  {
   "cell_type": "markdown",
   "id": "4cc74982",
   "metadata": {},
   "source": [
    "----------"
   ]
  },
  {
   "cell_type": "markdown",
   "id": "7e680fa7",
   "metadata": {},
   "source": [
    "#### **🔹 2. Integration Testing – “Do these bricks even fit together?”**\n",
    "\n",
    "> **\"Testing how well the bricks stick together\"**\n",
    "\n",
    "**✅ What exactly is it?**\n",
    "\n",
    "Once individual units work, test how **they interact with each other**. Ensures **data flows properly** between modules.\n",
    "\n",
    "##### **💡 Techie Example:**\n",
    "\n",
    "Frontend: `email_id`\n",
    "\n",
    "Backend: `mail_id`\n",
    "\n",
    "Result: 💥 Boom.\n",
    "\n",
    "**Who does it:**\n",
    "\n",
    "Developers or testers.\n",
    "\n",
    "**Example:**\n",
    "\n",
    "Test if your payment page correctly talks to the payment gateway. Otherwise, customers pay ₹500 and still see “Payment failed. Try again.”\n",
    "\n",
    "**Real-world Analogy:**\n",
    "\n",
    "Plumbing is done. Now test if water flows from tap to tank to pipe.\n",
    "\n",
    "💥 If it spills out midway → Integration bug!\n",
    "\n",
    "#### **👀 Clarity Point:**\n",
    "\n",
    "- Often missed in small projects\n",
    "\n",
    "- Focuses on **interfaces between systems** (e.g., API → DB, frontend → API)"
   ]
  },
  {
   "cell_type": "markdown",
   "id": "ab89efbb",
   "metadata": {},
   "source": [
    "--------------"
   ]
  },
  {
   "cell_type": "markdown",
   "id": "371d3724",
   "metadata": {},
   "source": [
    "#### **🔹 3. System Testing – “Let’s see if the whole circus performs together 🎪”**\n",
    "\n",
    "> **\"Is the house livable now?\"**\n",
    "\n",
    "##### **✅ What exactly is it?**\n",
    "\n",
    "Now test the **entire software** as one unit. Verify all workflows, buttons, screens, and features behave properly.\n",
    "\n",
    "**Who does it:**\n",
    "\n",
    "Dedicated QA testers.\n",
    "\n",
    "#### **💡 Techie Example:**\n",
    "\n",
    "E-commerce site:\n",
    "\n",
    "- Search product\n",
    "\n",
    "- Add to cart\n",
    "\n",
    "- Checkout\n",
    "\n",
    "- Payment\n",
    "\n",
    "- Order confirmation\n",
    "\n",
    "All these should **work together without crashing.**\n",
    "\n",
    "**Real-world Analogy:**\n",
    "\n",
    "Enter your new house. Try lights, fans, TV, geyser. If nothing works together — fire the contractor.\n",
    "\n",
    "#### **👀 Clarity Point:**\n",
    "\n",
    "- Focus is on **real user behavior simulation**\n",
    "\n",
    "- This is where most **test cases are executed**\n",
    "\n"
   ]
  },
  {
   "cell_type": "markdown",
   "id": "fec2d759",
   "metadata": {},
   "source": [
    "----------"
   ]
  },
  {
   "cell_type": "markdown",
   "id": "25c7a8db",
   "metadata": {},
   "source": [
    "#### **🔹 4. Acceptance Testing (UAT) – “Let the client try it now (and find 99 bugs you missed) 🧑‍💼🪲”**\n",
    "\n",
    "> **\"Client takes the final house tour\"**\n",
    "\n",
    "#### **✅ What exactly is it?**\n",
    "\n",
    "The **final level of testing** to verify whether the product meets **business requirements** and is ready for deployment.\n",
    "\n",
    "**“Should I accept this software or send it back with a slap?”**\n",
    "\n",
    "**Who does it:**\n",
    "\n",
    "Clients, stakeholders, business users.\n",
    "\n",
    "#### **💡 Techie Example:**\n",
    "\n",
    "Client requirement: “User should get SMS confirmation after order.”\n",
    "\n",
    "Acceptance Test: Place order → Did SMS arrive?\n",
    "\n",
    "**Real-world Analogy:**\n",
    "\n",
    "Client walks in, checks kitchen tiles:\n",
    "\n",
    "“This is green… I asked for grey.”\n",
    "\n",
    "**Back to dev team. 😬**\n",
    "\n",
    "**👀 Clarity Point:**\n",
    "\n",
    "- Conducted by **business analysts, product owners, clients**\n",
    "\n",
    "- Uses real-world **use cases and business rules**\n",
    "\n",
    "- Determines **GO / NO GO** for release\n",
    "\n",
    "\n",
    "\n",
    "**Sarcasm:**\n",
    "\n",
    "“Oh sure, the client *loved* the app — right after they opened a bug list longer than your resume.”\n"
   ]
  },
  {
   "cell_type": "markdown",
   "id": "d13ee9c0",
   "metadata": {},
   "source": [
    "---------"
   ]
  },
  {
   "cell_type": "markdown",
   "id": "f7f397db",
   "metadata": {},
   "source": [
    "#### **🔁 Visual Flow Summary**\n",
    " \n",
    " UNIT TESTING\n",
    "\n",
    "  ⬇️  Test each unit (function, method)\n",
    "\n",
    " INTEGRATION TESTING\n",
    "\n",
    "  ⬇️  Check if modules talk properly (e.g., API <-> DB)\n",
    "\n",
    " SYSTEM TESTING\n",
    "\n",
    "  ⬇️  Test the entire app like a user\n",
    "\n",
    " ACCEPTANCE TESTING\n",
    "\n",
    "  ⬇️  Final check by the client\n",
    "  \n",
    "  ✅ Ready for Production!\n"
   ]
  },
  {
   "cell_type": "markdown",
   "id": "7c4ea2bf",
   "metadata": {},
   "source": [
    "--------"
   ]
  },
  {
   "cell_type": "markdown",
   "id": "5695b591",
   "metadata": {},
   "source": [
    "#### **🧠 Summary Table – Levels of Testing**"
   ]
  },
  {
   "cell_type": "markdown",
   "id": "3398c3e2",
   "metadata": {},
   "source": [
    "| Level               | Who Tests It       | What’s Tested                           | Real-Life Sarcasm                                    |\n",
    "|---------------------|--------------------|------------------------------------------|------------------------------------------------------|\n",
    "| Unit Testing        | Developers          | Individual components (functions, etc.)  | “It works on my function!”                          |\n",
    "| Integration Testing | Devs / Testers      | Interaction between modules/APIs         | “Connected... kinda. Like an arranged marriage.”    |\n",
    "| System Testing      | QA Testers          | Entire system workflow                   | “The app is great, unless you actually use it.”     |\n",
    "| Acceptance Testing  | Clients / Users     | Does the system meet expectations?       | “You delivered what? I asked for WhatsApp, not Orkut!” |\n"
   ]
  },
  {
   "cell_type": "markdown",
   "id": "b8931d90",
   "metadata": {},
   "source": [
    "#### **✅ Best Practices (Non-sarcastic, sorry)**\n",
    "\n",
    "- Write **unit tests** while coding — saves future hair loss.\n",
    "\n",
    "- Use **mock data** for integration testing to isolate failures.\n",
    "\n",
    "- Run full **system tests** before demoing to clients.\n",
    "\n",
    "- **Acceptance testing** is your last defense — treat it like a final exam.\n",
    "\n"
   ]
  }
 ],
 "metadata": {
  "language_info": {
   "name": "python"
  }
 },
 "nbformat": 4,
 "nbformat_minor": 5
}
