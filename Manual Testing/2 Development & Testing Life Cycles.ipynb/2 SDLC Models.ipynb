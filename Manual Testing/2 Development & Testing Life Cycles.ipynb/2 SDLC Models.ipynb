{
 "cells": [
  {
   "cell_type": "markdown",
   "id": "cdb2ed03",
   "metadata": {},
   "source": [
    "## **🧩 Models of SDLC (Software Development Life Cycle)**\n",
    "\n",
    "> Different approaches to organize and manage the phases of SDLC depending on the project, team, and madness tolerance level 😅"
   ]
  },
  {
   "cell_type": "markdown",
   "id": "88271c9a",
   "metadata": {},
   "source": [
    "#### **🎯 Why SDLC Models?**\n",
    "\n",
    "Because **not every project is the same** — some need perfect planning, others need flexibility, and a few just need divine intervention 🛐\n",
    "So we use models to:\n",
    "\n",
    "- Plan workflow better\n",
    "\n",
    "- Choose the best-fit strategy\n",
    "\n",
    "- Manage resources, time, and quality"
   ]
  },
  {
   "cell_type": "markdown",
   "id": "8ca9ef27",
   "metadata": {},
   "source": [
    "---------"
   ]
  },
  {
   "cell_type": "markdown",
   "id": "47a403a6",
   "metadata": {},
   "source": [
    "#### **✅ Top SDLC Models You Should Know**\n",
    "\n",
    "| #   | Model       | Used When                                            |\n",
    "|-----|-------------|------------------------------------------------------|\n",
    "| 1️⃣ | Waterfall   | Requirements are fixed & clear                       |\n",
    "| 2️⃣ | V-Model     | Testing is important at every stage                 |\n",
    "| 3️⃣ | Incremental | You want faster delivery in parts (partial builds)  |\n",
    "| 4️⃣ | Spiral      | Risky projects that need constant evaluation         |\n",
    "| 5️⃣ | Agile       | Requirements change frequently                       |\n",
    "| 6️⃣ | Big Bang    | You love chaos 😈 (used in small quick POCs)         |\n"
   ]
  },
  {
   "cell_type": "markdown",
   "id": "733ff2c3",
   "metadata": {},
   "source": [
    "----------"
   ]
  },
  {
   "cell_type": "markdown",
   "id": "3275d683",
   "metadata": {},
   "source": [
    "### **🔍 1. Waterfall Model**\n",
    "\n",
    "> The \"one-way street\" model – no turning back! 🚫🔁\n",
    "\n",
    "#### **🧠 Concept:**\n",
    "\n",
    "Each phase is completed before the next starts.\n",
    "\n"
   ]
  },
  {
   "cell_type": "code",
   "execution_count": null,
   "id": "43d26183",
   "metadata": {
    "vscode": {
     "languageId": "plaintext"
    }
   },
   "outputs": [],
   "source": [
    "Requirement → Design → Development → Testing → Deployment → Maintenance"
   ]
  },
  {
   "cell_type": "markdown",
   "id": "e7a799b1",
   "metadata": {},
   "source": [
    "##### **📌 Best For:**\n",
    "\n",
    "- Projects with fixed, clear requirements\n",
    "\n",
    "- Government, defense, or industrial software\n",
    "\n",
    "##### **😵 Drawback:**\n",
    "\n",
    "- No flexibility. If you mess up requirements, you'll cry at the testing stage.\n",
    "\n",
    "##### **🎭 Scenario:**\n",
    "\n",
    "**Client**: “Add payment gateway.”\n",
    "\n",
    "**Dev (in testing phase)**: “That should’ve been told 2 months ago, Susan.” 🙄"
   ]
  },
  {
   "cell_type": "markdown",
   "id": "62e8f6f1",
   "metadata": {},
   "source": [
    "--------"
   ]
  },
  {
   "cell_type": "markdown",
   "id": "35f929b0",
   "metadata": {},
   "source": [
    "### **🔍 2. V-Model (Verification & Validation Model)**\n",
    "\n",
    "> Waterfall's twin... but **with testing paired to each phase** like a BFF 👯‍♂️\n",
    "\n",
    "#### **🧠 Concept:**\n",
    "\n",
    "Each dev phase has a corresponding test phase.\n",
    "\n"
   ]
  },
  {
   "cell_type": "code",
   "execution_count": null,
   "id": "67210369",
   "metadata": {
    "vscode": {
     "languageId": "plaintext"
    }
   },
   "outputs": [],
   "source": [
    "Req ↔ Acceptance Testing  \n",
    "Design ↔ Integration Testing  \n",
    "Coding ↔ Unit Testing"
   ]
  },
  {
   "cell_type": "markdown",
   "id": "e9b73c8d",
   "metadata": {},
   "source": [
    "#### **📌 Best For:**\n",
    "\n",
    "- High-assurance systems: Banking, Healthcare\n",
    "\n",
    "- Projects where **testing is as critical as development**\n",
    "\n",
    "#### **👍 Advantage:**\n",
    "\n",
    "- Bugs are caught early because testing starts with requirements"
   ]
  },
  {
   "cell_type": "markdown",
   "id": "24cd285f",
   "metadata": {},
   "source": [
    "-------"
   ]
  },
  {
   "cell_type": "markdown",
   "id": "d446ef49",
   "metadata": {},
   "source": [
    "### **🔍 3. Incremental Model**\n",
    "\n",
    "> “Let’s build it part by part” 🧱\n",
    "\n",
    "#### **🧠 Concept:**\n",
    "\n",
    "Project is broken into small chunks called **increments**.\n",
    "\n",
    "Each increment = mini Waterfall."
   ]
  },
  {
   "cell_type": "code",
   "execution_count": null,
   "id": "903c26b6",
   "metadata": {
    "vscode": {
     "languageId": "plaintext"
    }
   },
   "outputs": [],
   "source": [
    "Login Module → Payment Module → Cart Module → Order Tracking Module"
   ]
  },
  {
   "cell_type": "markdown",
   "id": "2243edb7",
   "metadata": {},
   "source": [
    "#### **📌 Best For:**\n",
    "\n",
    "- Medium-size projects where early delivery is needed\n",
    "\n",
    "- Projects with well-defined parts\n",
    "\n",
    "#### **🎭 Scenario:**\n",
    "\n",
    "**Client**: “Can you deliver login and signup this sprint?”\n",
    "\n",
    "**Team**: “Yup, and next sprint we’ll add cart.”\n",
    "\n",
    "**Client**: *Happy noises*\n"
   ]
  },
  {
   "cell_type": "markdown",
   "id": "d688907f",
   "metadata": {},
   "source": [
    "---------------"
   ]
  },
  {
   "cell_type": "markdown",
   "id": "9f574783",
   "metadata": {},
   "source": [
    "### **🔍 4. Spiral Model**\n",
    "\n",
    ">Combo of **Waterfall + Prototyping + Risk Management**\n",
    "\n",
    "Aka \"The Most Cautious Developer Model\" 🔄🔁\n",
    "\n",
    "\n",
    "#### **🧠 Concept:**\n",
    "\n",
    "Each loop = 1 phase of development\n",
    "\n",
    "Each loop involves:\n",
    "\n",
    "✅ Planning → Risk Analysis → Engineering → Evaluation\n",
    "\n",
    "\n",
    "#### **📌 Best For:**\n",
    "\n",
    "- Complex, high-risk projects\n",
    "\n",
    "- Projects needing constant revision & client feedback\n",
    "\n",
    "#### **🎭 Scenario:**\n",
    "\n",
    "**Boss**: “This project has high budget, high risk, and high client drama.”\n",
    "\n",
    "**Dev**: *Starts drawing spirals nervously*\n"
   ]
  },
  {
   "cell_type": "markdown",
   "id": "47a38097",
   "metadata": {},
   "source": [
    "--------"
   ]
  },
  {
   "cell_type": "markdown",
   "id": "900498d4",
   "metadata": {},
   "source": [
    "#### **🔍 5. Agile Model**\n",
    "\n",
    "> “Let’s build fast, adapt fast, and release fast” ⚡\n",
    "\n",
    ">The current industry favorite\n",
    "\n",
    "#### **🧠 Concept:**\n",
    "\n",
    "- Project divided into **small iterations (sprints)** (usually 2–4 weeks)\n",
    "\n",
    "- Continuous feedback from client\n",
    "\n",
    "- Requirements can change at any time (and they will 😤)"
   ]
  },
  {
   "cell_type": "code",
   "execution_count": null,
   "id": "82126007",
   "metadata": {
    "vscode": {
     "languageId": "plaintext"
    }
   },
   "outputs": [],
   "source": [
    "Plan → Design → Code → Test → Deliver → Feedback → Repeat"
   ]
  },
  {
   "cell_type": "markdown",
   "id": "3dd92b91",
   "metadata": {},
   "source": [
    "#### **📌 Best For:**\n",
    "\n",
    "- Startups, modern web/mobile apps\n",
    "\n",
    "- Projects with dynamic or unclear requirements\n",
    "\n",
    "\n",
    "#### **🎭 Scenario:**\n",
    "\n",
    "**Client**: “Change this UI again.”\n",
    "\n",
    "**Dev**: “Sure, I’ll do it in the next sprint while crying inside.”\n",
    "\n"
   ]
  },
  {
   "cell_type": "markdown",
   "id": "2f2247ec",
   "metadata": {},
   "source": [
    "----------"
   ]
  },
  {
   "cell_type": "markdown",
   "id": "556198f8",
   "metadata": {},
   "source": [
    "### **🔍 6. Big Bang Model**\n",
    "\n",
    ">AKA: \"**Just Start Coding\" model 🧨**\n",
    "\n",
    "No planning, no timeline, just vibes and bugs.\n",
    "\n",
    "#### **🧠 Concept:**\n",
    "\n",
    "- No formal plan\n",
    "\n",
    "- No requirement document\n",
    "\n",
    "- Ideal for **tiny projects, quick POCs, or weekend hacks**\n",
    "\n",
    "#### **📌 Best For:**\n",
    "\n",
    "- Solo devs, students, quick hackathons\n",
    "\n",
    "- When you're testing an idea, not releasing a product\n",
    "\n",
    "#### **🎭 Scenario:**\n",
    "\n",
    "**You**: “Let’s build a full-stack app in 2 days.”\n",
    "\n",
    "**Also you**: *debugging at 3AM, no version control, forgot DB schema*"
   ]
  },
  {
   "cell_type": "markdown",
   "id": "c6f6f119",
   "metadata": {},
   "source": [
    "--------------"
   ]
  },
  {
   "cell_type": "markdown",
   "id": "74118e54",
   "metadata": {},
   "source": [
    "#### **🧠 Real-Life Analogy (Let’s Build a House)**\n",
    "\n",
    "| **Model**      | **What Happens**                                                                 |\n",
    "|----------------|-----------------------------------------------------------------------------------|\n",
    "| Waterfall      | You build the house in one go without client seeing anything until final handover |\n",
    "| V-Model        | You double-check everything after every blueprint — with your tester friend always around |\n",
    "| Incremental    | You build room-by-room and let client use each one as it’s ready                 |\n",
    "| Spiral         | You build, show it, fix issues, repeat — spending more on safety, less on surprises |\n",
    "| Agile          | You meet weekly with the client and remodel constantly                           |\n",
    "| Big Bang       | You start building the house with no blueprint and hope it becomes a mansion 💀   |\n"
   ]
  },
  {
   "cell_type": "markdown",
   "id": "d4ad15c9",
   "metadata": {},
   "source": [
    "----"
   ]
  },
  {
   "cell_type": "markdown",
   "id": "f732bfd5",
   "metadata": {},
   "source": [
    "#### **🔁 Summary Points for Revision**\n",
    "\n",
    "| **Model**     | **Summary**                            |\n",
    "|---------------|-----------------------------------------|\n",
    "| Waterfall     | Linear, no going back                   |\n",
    "| V-Model       | Testing at every stage                  |\n",
    "| Incremental   | Builds delivered in chunks              |\n",
    "| Spiral        | Iterative with risk checks              |\n",
    "| Agile         | Iterative with client involvement       |\n",
    "| Big Bang      | No plan, just code (⚠️ risky)           |\n"
   ]
  }
 ],
 "metadata": {
  "language_info": {
   "name": "python"
  }
 },
 "nbformat": 4,
 "nbformat_minor": 5
}
