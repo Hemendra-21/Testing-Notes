{
 "cells": [
  {
   "cell_type": "markdown",
   "id": "eb637136",
   "metadata": {},
   "source": [
    "### **🧪 What is STLC?**\n",
    "\n",
    "> **STLC (Software Testing Life Cycle)** is a **structured process** that defines all the stages involved in **testing software** — from understanding what needs to be tested to finally closing the test cycle.\n",
    "\n",
    "💡 While **SDLC** covers the **entire software development**,\n",
    "**STLC** focuses **only on testing** — like a dedicated mini SDLC for QA teams."
   ]
  },
  {
   "cell_type": "markdown",
   "id": "cf69a1a2",
   "metadata": {},
   "source": [
    "-------"
   ]
  },
  {
   "cell_type": "markdown",
   "id": "779f6e8c",
   "metadata": {},
   "source": [
    "#### **⚙️ Why STLC Is Important?**\n",
    "\n",
    "- Ensures **nothing is missed** in testing\n",
    "\n",
    "- Brings **planning and structure** to the testing process\n",
    "\n",
    "- Improves **quality, efficiency, and bug detection**\n",
    "\n",
    "- Makes testers look less like \"bug-finders\" and more like \"quality gatekeepers\" 🛡️\n",
    "\n"
   ]
  },
  {
   "cell_type": "markdown",
   "id": "4382d810",
   "metadata": {},
   "source": [
    "------\n",
    "-------"
   ]
  },
  {
   "cell_type": "markdown",
   "id": "d0515480",
   "metadata": {},
   "source": [
    "### **🔁 STLC Phases with Examples + Sarcasm:**"
   ]
  },
  {
   "cell_type": "markdown",
   "id": "1097a4cb",
   "metadata": {},
   "source": [
    "#### **1️⃣ Requirement Analysis**\n",
    "\n",
    "> QA Team studies and understands **what needs to be tested 🔍**\n",
    "\n",
    "- Understand functional & non-functional requirements\n",
    "\n",
    "- Identify testable and non-testable items\n",
    "\n",
    "- If requirements are unclear — raise doubts\n",
    "\n",
    "**Example**:\n",
    "\n",
    "QA: “Should the login work with emoji passwords?”\n",
    "\n",
    "BA: “Why would anyone use that?”\n",
    "\n",
    "QA: “You clearly haven’t met Gen-Z.”"
   ]
  },
  {
   "cell_type": "markdown",
   "id": "371e8798",
   "metadata": {},
   "source": [
    "-------"
   ]
  },
  {
   "cell_type": "markdown",
   "id": "3961f85c",
   "metadata": {},
   "source": [
    "#### **2️⃣ Test Planning**\n",
    "\n",
    "> Creating the **master plan** for how testing will be done\n",
    "\n",
    "- Decide **scope**, types of testing, and **test strategy**\n",
    "\n",
    "- Define entry/exit criteria\n",
    "\n",
    "- Estimate time, effort, tools, and resources\n",
    "\n",
    "**Scenario**:\n",
    "\n",
    "Manager: “We need full regression, 50 test cases, 2 days, no bugs.”\n",
    "\n",
    "Tester: “Cool. Do I also get a time machine with that?”"
   ]
  },
  {
   "cell_type": "markdown",
   "id": "1d66d339",
   "metadata": {},
   "source": [
    "--------"
   ]
  },
  {
   "cell_type": "markdown",
   "id": "26a6feaf",
   "metadata": {},
   "source": [
    "#### **3️⃣ Test Case Design (Test Case Development)**\n",
    "\n",
    "> Writing the actual **test cases and test scripts**\n",
    "\n",
    "- Create test cases based on requirements\n",
    "\n",
    "- Define **expected outcomes**\n",
    "\n",
    "- If automation: write test scripts\n",
    "\n",
    "- Prepare **test data**\n",
    "\n",
    "**Example:**\n",
    "\n",
    "Test Case: “User should not log in with wrong password.”\n",
    "\n",
    "QA tries: **wrongpass**, **123456**, **password**, **qwerty**\n",
    "\n",
    "QA: “Still logged in? That’s a security disaster, not a feature.”"
   ]
  },
  {
   "cell_type": "markdown",
   "id": "d522c372",
   "metadata": {},
   "source": [
    "-------"
   ]
  },
  {
   "cell_type": "markdown",
   "id": "1173f68b",
   "metadata": {},
   "source": [
    "#### **4️⃣ Test Environment Setup**\n",
    "\n",
    "> Set up the playground where testing will happen 🧪🖥️\n",
    "\n",
    "- Install software, test servers, databases\n",
    "\n",
    "- Set up network, permissions, tools\n",
    "\n",
    "- May be done by DevOps or QA\n",
    "\n",
    "**Scenario:**\n",
    "\n",
    "Tester: “Environment not ready. Waiting since 2 days.”\n",
    "\n",
    "DevOps: “Try turning it off and on again.”\n",
    "\n",
    "Tester: *rage clicks in Jira*"
   ]
  },
  {
   "cell_type": "markdown",
   "id": "88c7d41c",
   "metadata": {},
   "source": [
    "---------"
   ]
  },
  {
   "cell_type": "markdown",
   "id": "a4407248",
   "metadata": {},
   "source": [
    "#### **5️⃣ Test Execution**\n",
    "\n",
    "> Finally, **run the test cases** — and catch those bugs like a pro 🎯\n",
    "\n",
    "- Execute manual/automated test cases\n",
    "\n",
    "- Log results: Pass, Fail, Blocked\n",
    "\n",
    "- Report **bugs/defects** in tools like Jira, Bugzilla\n",
    "\n",
    "**Scenario:**\n",
    "\n",
    "Test Case #18: Fails\n",
    "\n",
    "QA: “It crashes when I enter a space in the username.”\n",
    "\n",
    "Dev: “Why would anyone do that?”\n",
    "\n",
    "QA: “Because humans do weird things, okay?”"
   ]
  },
  {
   "cell_type": "markdown",
   "id": "a7fc736c",
   "metadata": {},
   "source": [
    "---------------"
   ]
  },
  {
   "cell_type": "markdown",
   "id": "9dc046e4",
   "metadata": {},
   "source": [
    "#### **6️⃣ Test Cycle Closure**\n",
    "\n",
    "> Wrap-up time — evaluate the process, close defects, learn lessons 🧘\n",
    "\n",
    "- Test summary report\n",
    "\n",
    "- Check if all objectives met\n",
    "\n",
    "- Identify improvements for next time\n",
    "\n",
    "- Conduct **retrospective meeting**\n",
    "\n",
    "**Scenario**:\n",
    "\n",
    "Manager: “So, what went wrong?”\n",
    "\n",
    "Tester: “Where do I begin…”\n"
   ]
  },
  {
   "cell_type": "markdown",
   "id": "189596c9",
   "metadata": {},
   "source": [
    "------"
   ]
  },
  {
   "cell_type": "markdown",
   "id": "7c6abc21",
   "metadata": {},
   "source": [
    "### **🧠 Short Summary Table – Software Testing Phases**\n",
    "\n",
    "| **Phase**                 | **What Happens**                       |\n",
    "|---------------------------|----------------------------------------|\n",
    "| Requirement Analysis      | Understand what to test                |\n",
    "| Test Planning             | Prepare how and what to test           |\n",
    "| Test Case Design          | Write test cases                       |\n",
    "| Test Environment Setup    | Set up test platform                   |\n",
    "| Test Execution            | Run the tests                          |\n",
    "| Test Closure              | Wrap up & report results               |\n"
   ]
  },
  {
   "cell_type": "markdown",
   "id": "25789e09",
   "metadata": {},
   "source": [
    "#### **🧩 Real-World Analogy – STLC as a Movie Theater 🍿**\n",
    "\n",
    "| **STLC Phase**            | **Like...**                                      |\n",
    "|---------------------------|--------------------------------------------------|\n",
    "| Requirement Analysis      | Reading the movie script                         |\n",
    "| Test Planning             | Planning which scenes to review                  |\n",
    "| Test Case Design          | Writing review checklist                         |\n",
    "| Environment Setup         | Setting up screen, projector                     |\n",
    "| Test Execution            | Watching and reviewing the movie                 |\n",
    "| Test Closure              | Writing your final Rotten Tomatoes review 🎬     |\n"
   ]
  },
  {
   "cell_type": "markdown",
   "id": "3c2054aa",
   "metadata": {},
   "source": [
    "#### **💬 Bonus: Entry & Exit Criteria Example**\n",
    "\n",
    "| **Phase**           | **Entry Criteria**                          | **Exit Criteria**                                 |\n",
    "|---------------------|---------------------------------------------|---------------------------------------------------|\n",
    "| Test Case Design    | Requirements are clear                      | Test cases are written & reviewed                 |\n",
    "| Test Execution      | Test cases ready, environment up            | All planned tests executed                        |\n",
    "| Closure             | All bugs fixed/closed                       | Test report submitted, lessons noted              |\n"
   ]
  }
 ],
 "metadata": {
  "language_info": {
   "name": "python"
  }
 },
 "nbformat": 4,
 "nbformat_minor": 5
}
