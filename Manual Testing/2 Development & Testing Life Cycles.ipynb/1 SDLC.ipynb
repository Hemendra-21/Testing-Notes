{
 "cells": [
  {
   "cell_type": "markdown",
   "id": "99832229",
   "metadata": {},
   "source": [
    "### **💡 What is SDLC?**\n",
    "\n",
    "> **SDLC (Software Development Life Cycle)** is a **structured process** used by software teams to **design, develop, test, and deploy** high-quality software efficiently.\n",
    "\n",
    "It answers:\n",
    "\n",
    "*🧠 \"How do we turn an idea into a working, tested, and usable product — without burning the company down?\"*"
   ]
  },
  {
   "cell_type": "markdown",
   "id": "8f150db2",
   "metadata": {},
   "source": [
    "------"
   ]
  },
  {
   "cell_type": "markdown",
   "id": "1d129032",
   "metadata": {},
   "source": [
    "### **🔁 SDLC Stages – Explained with Clarity + Humor**"
   ]
  },
  {
   "cell_type": "markdown",
   "id": "9733f83a",
   "metadata": {},
   "source": [
    "#### **1️⃣ Requirement Gathering & Analysis**\n",
    "\n",
    "> Understanding what the client wants — even when the client doesn’t fully know what they want 🤷‍♂️\n",
    "\n",
    "- 🛠 BA (Business Analyst) and stakeholders meet to gather **business needs**\n",
    "\n",
    "- 📋 Create detailed **SRS (Software Requirements Specification)**\n",
    "\n",
    "**Scenario:**\n",
    "\n",
    "Client: “I want an app like Amazon.”\n",
    "\n",
    "BA: “Cool! What features?”\n",
    "\n",
    "Client: “Just everything… but simpler.” 🙃\n",
    "\n",
    "➡️ End result: Vague expectations, missed features later if not clarified."
   ]
  },
  {
   "cell_type": "markdown",
   "id": "73269a90",
   "metadata": {},
   "source": [
    "----------"
   ]
  },
  {
   "cell_type": "markdown",
   "id": "96797d69",
   "metadata": {},
   "source": [
    "#### **2️⃣ Planning**\n",
    "\n",
    "> Deciding **who does what, by when, using how much money** — and pretending everything will go smoothly 😅\n",
    "\n",
    "- Define **project scope, timeline, cost, resources**\n",
    "\n",
    "- Prepare **project plan, risk management plan**\n",
    "\n",
    "**Example**:\n",
    "\n",
    "\"Let’s complete the full app in 3 weeks.\"\n",
    "\n",
    "Developer: \"With what team? The Avengers?\" 🦸‍♂️"
   ]
  },
  {
   "cell_type": "markdown",
   "id": "dbc9e5da",
   "metadata": {},
   "source": [
    "--------------"
   ]
  },
  {
   "cell_type": "markdown",
   "id": "169d0463",
   "metadata": {},
   "source": [
    "#### **3️⃣ Design**\n",
    "\n",
    "> Turning requirements into **technical architecture and UI/UX blueprints**.\n",
    "\n",
    "- High-Level Design (HLD): modules, components, data flow\n",
    "\n",
    "- Low-Level Design (LLD): database tables, classes, functions\n",
    "\n",
    "**Scenario**:\n",
    "\n",
    "**UX Designer**: “I made the login button neon pink to attract attention.”\n",
    "\n",
    "**Developer**: “Cool. Now we just need sunglasses to look at the screen.” 😎"
   ]
  },
  {
   "cell_type": "markdown",
   "id": "30803623",
   "metadata": {},
   "source": [
    "-----------"
   ]
  },
  {
   "cell_type": "markdown",
   "id": "16228437",
   "metadata": {},
   "source": [
    "#### **4️⃣ Development (Implementation)**\n",
    "\n",
    "> Actual coding begins — caffeine intake triples ☕, stress levels rise 📈\n",
    "\n",
    "- Code is written as per the design\n",
    "\n",
    "- Follows coding standards, version control (hopefully!)\n",
    "\n",
    "**Scenario**:\n",
    "\n",
    "You fix one bug.\n",
    "\n",
    "Three new ones spawn like Hydra heads 🐍\n",
    "\n",
    "You: *“Why is this codebase cursed?”*"
   ]
  },
  {
   "cell_type": "markdown",
   "id": "c87de29e",
   "metadata": {},
   "source": [
    "-------------"
   ]
  },
  {
   "cell_type": "markdown",
   "id": "9dd92499",
   "metadata": {},
   "source": [
    "#### **5️⃣ Testing**\n",
    "\n",
    "> The stage where testers break everything the devs thought was perfect 💥\n",
    "\n",
    "- Types: Unit, Integration, System, UAT\n",
    "\n",
    "- Bugs are logged, tracked, and fixed\n",
    "\n",
    "- Objective: ensure quality before release\n",
    "\n",
    "**Scenario**:\n",
    "\n",
    "**Tester**: “I entered 1000 characters in the username and the app crashed.”\n",
    "\n",
    "**Developer**: “Who even does that?”\n",
    "\n",
    "**Tester**: “Me. I do.” 😎"
   ]
  },
  {
   "cell_type": "markdown",
   "id": "805d8277",
   "metadata": {},
   "source": [
    "----------"
   ]
  },
  {
   "cell_type": "markdown",
   "id": "1336282b",
   "metadata": {},
   "source": [
    "#### **6️⃣ Deployment**\n",
    "\n",
    "> Shipping the product to real users (or production environment)\n",
    "\n",
    "- Initial release (Pilot/Soft launch)\n",
    "\n",
    "- Then full deployment using DevOps/CI-CD tools\n",
    "\n",
    "**Scenario**:\n",
    "\n",
    "Everything works in dev and staging.\n",
    "\n",
    "You deploy.\n",
    "\n",
    "The production crashes.\n",
    "\n",
    "**Everyone**: “BUT IT WORKED ON MY MACHINE!” 😤"
   ]
  },
  {
   "cell_type": "markdown",
   "id": "a2bb6acd",
   "metadata": {},
   "source": [
    "-----------"
   ]
  },
  {
   "cell_type": "markdown",
   "id": "bf2aca4a",
   "metadata": {},
   "source": [
    "#### **7️⃣ Maintenance**\n",
    "\n",
    "> Software’s \"happily ever after\"... that’s never really happy\n",
    "\n",
    "- Fix post-release bugs\n",
    "\n",
    "- Add new features based on feedback\n",
    "\n",
    "- Handle environment upgrades, patches\n",
    "\n",
    "**Scenario**:\n",
    "\n",
    "**User**: “Can you add dark mode?”\n",
    "\n",
    "**PM**: “Small change.”\n",
    "\n",
    "**Dev**: “This will take 3 weeks. And my soul.” 😩"
   ]
  },
  {
   "cell_type": "markdown",
   "id": "82cae6e7",
   "metadata": {},
   "source": [
    "-----"
   ]
  },
  {
   "cell_type": "markdown",
   "id": "147149fa",
   "metadata": {},
   "source": [
    "#### **🧠 Final SDLC Flow (Short Summary)**:"
   ]
  },
  {
   "cell_type": "code",
   "execution_count": null,
   "id": "2605bf06",
   "metadata": {
    "vscode": {
     "languageId": "plaintext"
    }
   },
   "outputs": [],
   "source": [
    "Idea 💡 → Requirements 📋 → Planning 🗓 → Design 🎨 → Code 💻 → Test 🧪 → Deploy 🚀 → Maintain 🔧"
   ]
  },
  {
   "cell_type": "markdown",
   "id": "2c61bec7",
   "metadata": {},
   "source": [
    "---------"
   ]
  },
  {
   "cell_type": "markdown",
   "id": "68669be2",
   "metadata": {},
   "source": [
    "#### **🎯 Why SDLC is Important?**\n",
    "\n",
    "| ✅ **Benefit**        | **Why It Matters**                                      |\n",
    "|-----------------------|----------------------------------------------------------|\n",
    "| Structured Flow        | Reduces chaos and confusion                             |\n",
    "| Quality Assurance      | Testing is planned, not accidental                      |\n",
    "| Time & Cost Saving     | Predictable timelines and budgets                       |\n",
    "| Risk Management        | Bugs, scope creep, and issues can be handled early      |\n"
   ]
  },
  {
   "cell_type": "markdown",
   "id": "3aa2ece2",
   "metadata": {},
   "source": [
    "#### **⚠️ What Happens Without SDLC?**\n",
    "\n",
    "- Features built and then removed\n",
    "\n",
    "- No documentation, just code spaghetti 🍝\n",
    "\n",
    "- Bugs become features\n",
    "\n",
    "- Developers get blamed for everything. Even the design."
   ]
  },
  {
   "cell_type": "markdown",
   "id": "16b5015c",
   "metadata": {},
   "source": [
    "#### **🧩 Example: Pizza App SDLC Flow**\n",
    "\n",
    "| **Phase**       | **Action**                                                 |\n",
    "|------------------|-------------------------------------------------------------|\n",
    "| Requirement      | “Users should order pizza and track it live.”               |\n",
    "| Planning         | 2 devs, 1 designer, 1 tester, 4 weeks                        |\n",
    "| Design           | Screens for menu, cart, order tracking                      |\n",
    "| Development      | React + Node + Firebase                                     |\n",
    "| Testing          | Test login, order, payment, 404 pages                       |\n",
    "| Deployment       | Hosted on Vercel, connected to DB                           |\n",
    "| Maintenance      | Handle crashes, feedback, new offers                        |\n"
   ]
  }
 ],
 "metadata": {
  "language_info": {
   "name": "python"
  }
 },
 "nbformat": 4,
 "nbformat_minor": 5
}
