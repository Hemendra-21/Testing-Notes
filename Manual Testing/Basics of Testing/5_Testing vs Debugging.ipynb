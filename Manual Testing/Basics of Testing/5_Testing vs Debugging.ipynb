{
 "cells": [
  {
   "cell_type": "markdown",
   "id": "0853398a",
   "metadata": {},
   "source": [
    "#### **🔍 What is Testing?**\n",
    "\n",
    "> **Testing** is the process of *identifying bugs or errors* in the software by executing it under various conditions."
   ]
  },
  {
   "cell_type": "markdown",
   "id": "c781887f",
   "metadata": {},
   "source": [
    "#### **✅ Simple Definition:**\n",
    "\n",
    "> *“Finding out **what is wrong** with the software.”*\n",
    "\n"
   ]
  },
  {
   "cell_type": "markdown",
   "id": "dda96e65",
   "metadata": {},
   "source": [
    "---------------"
   ]
  },
  {
   "cell_type": "markdown",
   "id": "16a01e17",
   "metadata": {},
   "source": [
    "#### **🧰 What is Debugging?**\n",
    "\n",
    "> **Debugging** is the process of analyzing the root cause of a bug and **fixing it in the code**.\n",
    "\n",
    "#### **✅ Simple Definition:**\n",
    "\n",
    "> *“Understanding **why it’s wrong** and fixing it.”*"
   ]
  },
  {
   "cell_type": "markdown",
   "id": "01a8533d",
   "metadata": {},
   "source": [
    "------------"
   ]
  },
  {
   "cell_type": "markdown",
   "id": "786032c4",
   "metadata": {},
   "source": [
    "#### **⚖️ Comparison Table – Testing vs Debugging**\n",
    "\n",
    "| **Feature**         | **Testing**                                                      | **Debugging**                                                  |\n",
    "|---------------------|------------------------------------------------------------------|----------------------------------------------------------------|\n",
    "| **Purpose**         | To find bugs or issues                                           | To fix the root cause of the bug                               |\n",
    "| **Who does it?**    | Mostly Testers (QA Engineers)                                    | Mostly Developers                                              |\n",
    "| **When is it done?**| During & after development                                       | After a bug is found through testing or user report            |\n",
    "| **Focus**           | Behavior of application                                          | Code and logic correction                                      |\n",
    "| **Involves**        | Writing test cases, executing them                               | Debugging tools, print statements, IDEs                        |\n",
    "| **Example**         | “Login button not working as expected”                           | “Missing API call in the button click handler”                |\n",
    "| **Tools**           | Selenium, JUnit, TestNG, Postman, Manual test cases              | IDE debuggers, browser console, log files, breakpoints        |\n"
   ]
  },
  {
   "cell_type": "markdown",
   "id": "1d3dec40",
   "metadata": {},
   "source": [
    "-------------"
   ]
  },
  {
   "cell_type": "markdown",
   "id": "622a3202",
   "metadata": {},
   "source": [
    "#### **📦 Real-Life Scenario:**\n",
    "\n",
    "🔹 **Scenario**:\n",
    "You’re testing a registration form. You entered valid data and clicked **Submit**, but nothing happened.\n",
    "\n",
    "- You (as a tester) **report**: “Form is not submitted even with valid inputs.” **➝ Testing**\n",
    "\n",
    "- A developer checks the code, finds the error in the JavaScript file (maybe a missing `event.preventDefault()`), and fixes it. **➝ Debugging**"
   ]
  },
  {
   "cell_type": "markdown",
   "id": "55ef657e",
   "metadata": {},
   "source": [
    "#### **🧠 Analogy:**\n",
    "\n",
    "- **Testing** is like a **doctor identifying a disease** from symptoms.\n",
    "\n",
    "- **Debugging** is like **treating the disease** after identifying what’s wrong.\n",
    "\n"
   ]
  },
  {
   "cell_type": "markdown",
   "id": "9b5966ce",
   "metadata": {},
   "source": [
    "-------------"
   ]
  },
  {
   "cell_type": "markdown",
   "id": "6d2ee492",
   "metadata": {},
   "source": [
    "#### **🔍 Example to Solidify:**\n",
    "\n",
    "**Bug**: \"When clicking submit on a form, nothing happens.\"\n",
    "\n",
    "- **Testing**: Found that the issue exists when form inputs are empty.\n",
    "\n",
    "- **Debugging**: Dev checks code, finds a condition was written wrong:\n"
   ]
  },
  {
   "cell_type": "code",
   "execution_count": null,
   "id": "10afff6e",
   "metadata": {
    "vscode": {
     "languageId": "javascript"
    }
   },
   "outputs": [],
   "source": [
    "// Incorrect:\n",
    "if (formData !== \"\") { \n",
    "  // ... \n",
    "}\n",
    "\n",
    "// Correct:\n",
    "if (formData !== null) { \n",
    "  // ... \n",
    "}"
   ]
  },
  {
   "cell_type": "markdown",
   "id": "8d8d9931",
   "metadata": {},
   "source": [
    "Fixes the code and tests again."
   ]
  }
 ],
 "metadata": {
  "language_info": {
   "name": "python"
  }
 },
 "nbformat": 4,
 "nbformat_minor": 5
}
