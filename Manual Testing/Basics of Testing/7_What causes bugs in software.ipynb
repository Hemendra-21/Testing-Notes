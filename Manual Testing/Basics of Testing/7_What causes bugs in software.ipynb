{
 "cells": [
  {
   "cell_type": "markdown",
   "id": "aa7d2df5",
   "metadata": {},
   "source": [
    "#### **✅ What Causes Bugs in Software?**\n",
    "\n",
    "A **bug** (or defect) is usually the result of something going wrong during the **software development lifecycle (SDLC)**.\n",
    "\n",
    "Let’s break it down clearly with reasons, examples, and scenarios."
   ]
  },
  {
   "cell_type": "markdown",
   "id": "eba7342d",
   "metadata": {},
   "source": [
    "---------"
   ]
  },
  {
   "cell_type": "markdown",
   "id": "9b22a412",
   "metadata": {},
   "source": [
    "#### **🔶 1. Human Mistakes (Human Error)**\n",
    "\n",
    "**Reason**: Developers or testers make accidental mistakes while coding or testing.\n",
    "\n",
    "**Example**:\n",
    "A developer writes `if (password = \"admin\")` instead of `==.`\n",
    "\n",
    "**Scenario**:\n",
    "The condition always passes because it's assignment, not comparison — leading to a **security issue** where anyone can log in as admin."
   ]
  },
  {
   "cell_type": "markdown",
   "id": "e8e4d38d",
   "metadata": {},
   "source": [
    "------------"
   ]
  },
  {
   "cell_type": "markdown",
   "id": "8f1a321f",
   "metadata": {},
   "source": [
    "#### **🔶 2. Lack of Understanding of Requirements**\n",
    "\n",
    "**Reason**: If developers misunderstood or didn't clearly know what the client wanted.\n",
    "\n",
    "**Example**:\n",
    "Client wants login to accept both **email and phone number**, but the developer only implemented email.\n",
    "\n",
    "**Scenario**:\n",
    "Phone login fails in production. That's a **bug due to incorrect requirements implementation**."
   ]
  },
  {
   "cell_type": "markdown",
   "id": "ad4d5998",
   "metadata": {},
   "source": [
    "----------"
   ]
  },
  {
   "cell_type": "markdown",
   "id": "0fa9f03a",
   "metadata": {},
   "source": [
    "#### **🔶 3. Changing Requirements**\n",
    "\n",
    "**Reason**: Requirements keep changing but the code is not updated properly.\n",
    "\n",
    "**Example**:\n",
    "Checkout page was updated to accept **UPI**, but the dev forgot to handle that in backend validation.\n",
    "\n",
    "**Scenario**:\n",
    "Customer selects UPI → nothing happens → app crashes → user frustration."
   ]
  },
  {
   "cell_type": "markdown",
   "id": "c099e7fd",
   "metadata": {},
   "source": [
    "----------------"
   ]
  },
  {
   "cell_type": "markdown",
   "id": "6d73eadd",
   "metadata": {},
   "source": [
    "#### **🔶 4. Time Pressure & Deadlines**\n",
    "\n",
    "**Reason**: Developers rush due to delivery pressure and skip proper testing or best practices.\n",
    "\n",
    "**Example**:\n",
    "Hardcoding values, skipping validation, or pushing incomplete features.\n",
    "\n",
    "**Scenario**:\n",
    "Feature works in one scenario, but breaks in all others."
   ]
  },
  {
   "cell_type": "markdown",
   "id": "7d93c873",
   "metadata": {},
   "source": [
    "-----------"
   ]
  },
  {
   "cell_type": "markdown",
   "id": "ab225597",
   "metadata": {},
   "source": [
    "#### **🔶 5. Poor Communication Among Team Members**\n",
    "\n",
    "**Reason**: Developers, testers, analysts not on the same page.\n",
    "\n",
    "**Example**:\n",
    "Developer expects JSON response with `user_id`, but backend gives `id`.\n",
    "\n",
    "**Scenario**:\n",
    "UI crashes because it can't find **user_id**."
   ]
  },
  {
   "cell_type": "markdown",
   "id": "d1c82e7f",
   "metadata": {},
   "source": [
    "---------"
   ]
  },
  {
   "cell_type": "markdown",
   "id": "07f8368e",
   "metadata": {},
   "source": [
    "#### **🔶 6. Incomplete Testing**\n",
    "\n",
    "**Reason**: QA team may miss edge cases or fail to test on different devices/browsers.\n",
    "\n",
    "**Example**:\n",
    "Login page works on Chrome but breaks on Firefox due to browser-specific bug."
   ]
  },
  {
   "cell_type": "markdown",
   "id": "cffdeecc",
   "metadata": {},
   "source": [
    "---------"
   ]
  },
  {
   "cell_type": "markdown",
   "id": "fa13aaf3",
   "metadata": {},
   "source": [
    "#### **🔶 7. Integration Issues**\n",
    "\n",
    "**Reason**: Modules developed separately fail when integrated.\n",
    "\n",
    "**Example**:\n",
    "Login module sends user ID in string format, profile module expects an integer.\n"
   ]
  },
  {
   "cell_type": "markdown",
   "id": "561fe7ae",
   "metadata": {},
   "source": [
    "--------------"
   ]
  },
  {
   "cell_type": "markdown",
   "id": "8b39f047",
   "metadata": {},
   "source": [
    "#### **🔶 8. Environment Differences**\n",
    "\n",
    "**Reason**: The code works in the developer's local environment but not in production.\n",
    "\n",
    "**Example**:\n",
    "File paths, APIs, or server configurations differ."
   ]
  },
  {
   "cell_type": "markdown",
   "id": "41053874",
   "metadata": {},
   "source": [
    "------------"
   ]
  },
  {
   "cell_type": "markdown",
   "id": "bc921184",
   "metadata": {},
   "source": [
    "#### **🔶 9. Third-party Tool or API Failures**\n",
    "\n",
    "**Reason**: You rely on outside services (e.g., payment gateways, Google login) and they change or go down.\n",
    "\n",
    "**Example**:\n",
    "Google API changes the login token format — your app fails."
   ]
  },
  {
   "cell_type": "markdown",
   "id": "8c58eba1",
   "metadata": {},
   "source": [
    "-----------"
   ]
  },
  {
   "cell_type": "markdown",
   "id": "0152d4d2",
   "metadata": {},
   "source": [
    "#### **🔶 10. Bad Coding Practices**\n",
    "\n",
    "**Reason**: No code review, no unit testing, repeated logic, messy structure.\n",
    "\n",
    "**Example**:\n",
    "No null checks, hardcoded credentials, repeated code blocks."
   ]
  },
  {
   "cell_type": "markdown",
   "id": "2094301a",
   "metadata": {},
   "source": [
    "--------------"
   ]
  },
  {
   "cell_type": "markdown",
   "id": "c022985b",
   "metadata": {},
   "source": [
    "#### **🧪 Question 1: A button works perfectly on Chrome but not on Safari. What could be the cause?**\n",
    "\n",
    "**✔️ Your Answer: Compatibility Issue**\n",
    "\n",
    "**✅ Verdict: Correct!**\n",
    "\n",
    "--------------"
   ]
  },
  {
   "cell_type": "markdown",
   "id": "eb85b2a7",
   "metadata": {},
   "source": [
    "#### **🔍 Explanation:**\n",
    "\n",
    "Different browsers **interpret HTML/CSS/JS slightly differently**, especially older versions. For example:\n",
    "\n",
    "- **CSS properties** like `flex`, `grid`, or `backdrop-filter` may not work the same way on all browsers.\n",
    "\n",
    "- JavaScript functions like `Array.flat()` or `Intl.DateTimeFormat` may not be supported in older Safari versions.\n",
    "\n",
    "- HTML5 features like `<dialog>` or input types may render differently or not at all.\n",
    "\n",
    "\n",
    "----------"
   ]
  },
  {
   "cell_type": "markdown",
   "id": "6431377a",
   "metadata": {},
   "source": [
    "#### **🧠 Scenario:**\n",
    "\n",
    "Suppose a dev used a modern JavaScript feature:\n"
   ]
  },
  {
   "cell_type": "code",
   "execution_count": null,
   "id": "4b28e193",
   "metadata": {
    "vscode": {
     "languageId": "javascript"
    }
   },
   "outputs": [],
   "source": [
    "let newArr = arr.flat();"
   ]
  },
  {
   "cell_type": "markdown",
   "id": "d89c06ba",
   "metadata": {},
   "source": [
    "It works on Chrome (which supports it), but Safari (older version) throws an error:\n",
    "\n",
    "**➡️ Result:** Button click fails because the script breaks — compatibility issue!"
   ]
  }
 ],
 "metadata": {
  "language_info": {
   "name": "python"
  }
 },
 "nbformat": 4,
 "nbformat_minor": 5
}
