{
 "cells": [
  {
   "cell_type": "markdown",
   "id": "bdba6ac7",
   "metadata": {},
   "source": [
    "#### **🔍 What is Software Quality?**\n",
    "\n",
    "**Software Quality** is the measure of how well a software product:\n",
    "\n",
    "- Meets the **requirements** specified by the client/stakeholder\n",
    "\n",
    "- Is **reliable, usable, maintainable, secure**\n",
    "\n",
    "- Performs efficiently on **different devices/platforms**\n",
    "\n",
    "> 🎯 **Definition**: “Quality is fitness for use.” — Joseph Juran\n",
    "\n",
    "-------------"
   ]
  },
  {
   "cell_type": "markdown",
   "id": "17178217",
   "metadata": {},
   "source": [
    "#### **✅ Quality Types in Software Engineering**\n",
    "\n",
    "| **Type**                | **Meaning**                                                                 | **Example**                                                             |\n",
    "|-------------------------|------------------------------------------------------------------------------|-------------------------------------------------------------------------|\n",
    "| **Quality of Design**       | How well quality is planned — includes choice of architecture, tech stack, and features | Choosing React for UI and PostgreSQL for a banking app                 |\n",
    "| **Quality of Conformance**  | How well the actual product follows the design and requirements             | Final app should match approved Figma design and feature list          |\n"
   ]
  },
  {
   "cell_type": "markdown",
   "id": "25b92d6d",
   "metadata": {},
   "source": [
    "> ✅ Good quality software must have both good design and perfect conformance to that design.\n",
    "\n",
    "-----------------------"
   ]
  },
  {
   "cell_type": "markdown",
   "id": "8f9f6778",
   "metadata": {},
   "source": [
    "#### **📐 Characteristics of Software Quality (ISO 9126 / ISO 25010)**\n",
    "\n",
    "These are the 8 essential attributes that define software quality:\n",
    "\n",
    "| **Characteristic** | **What It Means**                               | **Example / Scenario**                                                  |\n",
    "|--------------------|--------------------------------------------------|-------------------------------------------------------------------------|\n",
    "| Functionality       | Does the app do what it should?                 | Login should allow only valid users                                    |\n",
    "| Reliability         | Does it work under expected conditions?         | App shouldn't crash even if used 100 times                             |\n",
    "| Usability           | Is it easy for users to learn and use?          | Clear buttons, clean design, helpful error messages                    |\n",
    "| Efficiency          | Does it use system resources wisely?            | App should load in under 2 seconds, minimal battery usage              |\n",
    "| Maintainability     | How easy is it to fix/update the code?          | Code is modular, naming is clear, version control is used              |\n",
    "| Portability         | Can it run on various OS/devices?               | Works on Windows, macOS, Android, iOS                                  |\n",
    "| Security            | Is it protected from threats or leaks?          | Password is encrypted, data is secure                                  |\n",
    "| Compatibility       | Can it integrate or coexist with other systems? | Works smoothly with different browsers or payment gateways             |\n"
   ]
  },
  {
   "cell_type": "markdown",
   "id": "16196a1c",
   "metadata": {},
   "source": [
    "-----------"
   ]
  },
  {
   "cell_type": "markdown",
   "id": "f0ad5a62",
   "metadata": {},
   "source": [
    "#### **🧠 Real-Life Scenario-Based Examples:**\n",
    "##### **Scenario 1: Online Banking App**\n",
    "\n",
    "- **Functionality**: Should allow fund transfers, balance check, and statements\n",
    "\n",
    "- **Security**: Must use encryption for transactions and login\n",
    "\n",
    "- **Usability**: Elderly people should understand and use it easily"
   ]
  },
  {
   "cell_type": "markdown",
   "id": "14883860",
   "metadata": {},
   "source": [
    "#### **Scenario 2: Food Delivery App (like Zomato)**\n",
    "\n",
    "| **Issue**                        | **Quality Attribute Problem** |\n",
    "|----------------------------------|-------------------------------|\n",
    "| Wrong order delivered            | Functionality                 |\n",
    "| App crashes while ordering       | Reliability                   |\n",
    "| App is confusing                 | Usability                     |\n",
    "| Drains battery quickly           | Efficiency                    |\n",
    "| Login fails in iOS               | Portability                   |\n"
   ]
  },
  {
   "cell_type": "markdown",
   "id": "2ce93dcc",
   "metadata": {},
   "source": [
    "---------"
   ]
  },
  {
   "cell_type": "markdown",
   "id": "b8084583",
   "metadata": {},
   "source": [
    "#### **🧠 Why is Software Quality Important?**\n",
    "\n",
    "- ✅ Builds **user trust** and **satisfaction**\n",
    "\n",
    "- 💰 Prevents **financial losses** due to bugs\n",
    "\n",
    "- 📈 Boosts **business reputation**\n",
    "\n",
    "- ⚙️ Reduces future **maintenance effort**\n",
    "\n",
    "- 🔐 Protects users from **security threats**\n",
    "\n",
    "- 📊 Helps follow **compliance/legal rules** (like GDPR, HIPAA)"
   ]
  },
  {
   "cell_type": "markdown",
   "id": "55cefc3e",
   "metadata": {},
   "source": [
    "---------"
   ]
  },
  {
   "cell_type": "markdown",
   "id": "c8cea836",
   "metadata": {},
   "source": [
    "#### **💡 Common Mistakes That Reduce Software Quality**\n",
    "\n",
    "| **Mistake**                        | **Impact**                                 |\n",
    "|------------------------------------|--------------------------------------------|\n",
    "| No proper testing                  | Functional bugs in production              |\n",
    "| Not following UI/UX guidelines     | Poor usability                             |\n",
    "| Ignoring browser/device testing    | Compatibility issues                       |\n",
    "| No security validation             | Data leak risk                             |\n",
    "| Hardcoded values in code           | Poor maintainability                       |\n"
   ]
  }
 ],
 "metadata": {
  "language_info": {
   "name": "python"
  }
 },
 "nbformat": 4,
 "nbformat_minor": 5
}
