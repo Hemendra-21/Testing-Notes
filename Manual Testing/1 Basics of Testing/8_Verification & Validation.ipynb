{
 "cells": [
  {
   "cell_type": "markdown",
   "id": "0ec415d7",
   "metadata": {},
   "source": [
    "#### **🔍 Verification**\n",
    "\n",
    "> **“The process of evaluating work-products (like requirements, design, or code) without executing the software, to ensure they meet specified requirements.”**\n",
    "\n",
    "✔️ Focuses on **process**\n",
    "\n",
    "✔️ It checks: **Are we building the product right?**\n",
    "\n",
    "✔️ Happens **before development/testing** starts"
   ]
  },
  {
   "cell_type": "markdown",
   "id": "e45feec3",
   "metadata": {},
   "source": [
    "--------------"
   ]
  },
  {
   "cell_type": "markdown",
   "id": "8324f5a4",
   "metadata": {},
   "source": [
    "#### **✅ Validation**\n",
    "\n",
    "> **“The process of evaluating the final software product by executing it, to check whether it meets the business needs and expectations.”**\n",
    "\n",
    "✔️ Focuses on **product behavior**\n",
    "\n",
    "✔️ It checks: **Are we building the right product?**\n",
    "\n",
    "✔️ Happens **after or during execution/testing**"
   ]
  },
  {
   "cell_type": "markdown",
   "id": "89b94e61",
   "metadata": {},
   "source": [
    "---------------"
   ]
  },
  {
   "cell_type": "markdown",
   "id": "c620d0b1",
   "metadata": {},
   "source": [
    "#### **🔁 High-Level Definition – Verification vs Validation**\n",
    "\n",
    "| **Concept**  | 🔍 **Verification**                            | ✅ **Validation**                                 |\n",
    "|--------------|------------------------------------------------|--------------------------------------------------|\n",
    "| **Meaning**  | Are we building the product right?             | Are we building the right product?               |\n",
    "| **Focus**    | Process, Design, Planning                      | Functionality, Output, Actual product            |\n",
    "| **Type**     | Static Testing (No code execution)             | Dynamic Testing (Requires code execution)        |\n",
    "| **Goal**     | Ensure requirements/specs are followed         | Ensure user needs are fulfilled                  |\n",
    "| **Done by**  | Developers, Business Analysts, QA Leads        | Testers, QA Engineers                            |\n"
   ]
  },
  {
   "cell_type": "markdown",
   "id": "c10ca06d",
   "metadata": {},
   "source": [
    "--------------"
   ]
  },
  {
   "cell_type": "markdown",
   "id": "99435304",
   "metadata": {},
   "source": [
    "#### **🧠 Easy Analogy:**\n",
    "\n",
    "> You’re building a car 🚗\n",
    "\n",
    "- **Verification** – Did we follow the design blueprint?\n",
    "\n",
    "- **Validation** – Can the car actually run safely and as expected?"
   ]
  },
  {
   "cell_type": "markdown",
   "id": "d23eb069",
   "metadata": {},
   "source": [
    "--------------"
   ]
  },
  {
   "cell_type": "markdown",
   "id": "e26a5e96",
   "metadata": {},
   "source": [
    "#### **🔎 Detailed Differences – Verification vs Validation**\n",
    "\n",
    "| **Aspect**         | **Verification**                                      | **Validation**                                     |\n",
    "|--------------------|--------------------------------------------------------|----------------------------------------------------|\n",
    "| **When**           | Early phase of SDLC                                   | After development                                  |\n",
    "| **Activity type**  | Reviews, walkthroughs, inspections                    | Testing, execution of application                  |\n",
    "| **Checks**         | Design docs, architecture, requirements               | Actual software behavior                           |\n",
    "| **Example Methods**| Requirement review, design review                     | Unit testing, integration testing, UAT             |\n"
   ]
  },
  {
   "cell_type": "markdown",
   "id": "c40108d8",
   "metadata": {},
   "source": [
    "----------"
   ]
  },
  {
   "cell_type": "markdown",
   "id": "30944d7b",
   "metadata": {},
   "source": [
    "### **✅ Examples & Scenarios**\n",
    "##### **📄 Verification Examples:**\n",
    "\n",
    "**Requirement Review:**\n",
    "\n",
    "- Check if BRD (Business Requirements Document) is clear and complete.\n",
    "\n",
    "- *🔍 \"Is this feature aligned with client expectations?\"*\n",
    "\n",
    "**Design Walkthrough:**\n",
    "\n",
    "- Review technical architecture with developers before starting implementation.\n",
    "\n",
    "**Static Code Analysis:**\n",
    "\n",
    "- Using tools like SonarQube to ensure code standards without running code."
   ]
  },
  {
   "cell_type": "markdown",
   "id": "39227d55",
   "metadata": {},
   "source": [
    "----------"
   ]
  },
  {
   "cell_type": "markdown",
   "id": "6c6c3923",
   "metadata": {},
   "source": [
    "#### **🧪 Validation Examples:**\n",
    "\n",
    "**Functional Testing:**\n",
    "\n",
    "- Test if “Login” works with valid credentials.\n",
    "\n",
    "**User Acceptance Testing (UAT):**\n",
    "\n",
    "- Client checks if the final product solves their actual business need.\n",
    "\n",
    "**System Testing:**\n",
    "\n",
    "- Does the full software run correctly as a complete system?"
   ]
  },
  {
   "cell_type": "markdown",
   "id": "1c9f73ea",
   "metadata": {},
   "source": [
    "----------"
   ]
  },
  {
   "cell_type": "markdown",
   "id": "f035d82c",
   "metadata": {},
   "source": [
    "### **💬 Real-Life Example:**\n",
    "\n",
    "#### **✅ Scenario:**\n",
    "\n",
    "> **A client wants an online bookstore with login, search, and checkout features.**\n",
    "\n",
    "- 🔍 **Verification**:\n",
    "\n",
    "    - Confirm requirements document lists all features.\n",
    "\n",
    "    - Review UI designs and flow.\n",
    "\n",
    "    - Ensure the code follows standards (via code review).\n",
    "\n",
    "- 🧪 **Validation**:\n",
    "\n",
    "    - Test if users can register, login, search, and place orders.\n",
    "\n",
    "    - Confirm the shopping cart works as expected.\n",
    "\n",
    "    - Client performs UAT and gives approval.\n",
    "\n",
    "    ------------------------"
   ]
  },
  {
   "cell_type": "markdown",
   "id": "bd662a21",
   "metadata": {},
   "source": [
    "#### **✅ Scenario:**\n",
    "\n",
    "> 🧠 You’re building a **food delivery app:**\n",
    "\n",
    "- **Verification**:\n",
    "\n",
    "    - Check if Figma designs match the requirement doc\n",
    "\n",
    "    - Review if login logic is correctly implemented in code\n",
    "\n",
    "- **Validation**:\n",
    "\n",
    "    - Actually test if a user can register, log in, order food, and pay successfully"
   ]
  },
  {
   "cell_type": "markdown",
   "id": "9d6cb72b",
   "metadata": {},
   "source": [
    "----------"
   ]
  },
  {
   "cell_type": "markdown",
   "id": "1c8902f2",
   "metadata": {},
   "source": [
    "> *💬 “Verification checks if we are building the product right. Validation checks if we are building the right product.”*"
   ]
  }
 ],
 "metadata": {
  "language_info": {
   "name": "python"
  }
 },
 "nbformat": 4,
 "nbformat_minor": 5
}
