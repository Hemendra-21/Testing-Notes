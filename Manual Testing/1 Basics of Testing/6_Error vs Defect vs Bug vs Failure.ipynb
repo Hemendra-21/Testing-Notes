{
 "cells": [
  {
   "cell_type": "markdown",
   "id": "bd19764d",
   "metadata": {},
   "source": [
    "#### **🧠 Concept Explanation (Like a Real Workflow)**\n",
    "\n",
    "##### **🧱 1. Error – “A mistake by the developer.”**\n",
    "\n",
    "- **📌 Definition**: When a developer writes wrong logic or code.\n",
    "\n",
    "- **⚙️ Happens in**: Development phase\n",
    "\n",
    "- **🧑‍💻 Example**: Dev wrote `total = price + quantity` instead of `total = price * quantity`.\n",
    "\n",
    "> 🔍 Think of it as a **human mistake** before the software is tested.\n",
    "\n"
   ]
  },
  {
   "cell_type": "markdown",
   "id": "bb4c7960",
   "metadata": {},
   "source": [
    "-------------"
   ]
  },
  {
   "cell_type": "markdown",
   "id": "d83d0e9c",
   "metadata": {},
   "source": [
    "#### **🐞 2. Defect – *“The result of that mistake inside the software.”***\n",
    "\n",
    "- **📌 Definition**: When that error gets built into the application, and causes incorrect behavior.\n",
    "\n",
    "- **⚙️ Found in**: Testing phase\n",
    "\n",
    "- **🧪 Example**: You test the cart and see that buying 3 items of ₹50 is showing `₹53` instead of `₹150`.\n",
    "\n",
    "> ✅ Testers find these. They raise them as “issues” or “defects” in bug-tracking tools like JIRA."
   ]
  },
  {
   "cell_type": "markdown",
   "id": "e7ffccea",
   "metadata": {},
   "source": [
    "------------"
   ]
  },
  {
   "cell_type": "markdown",
   "id": "5e7f5412",
   "metadata": {},
   "source": [
    "#### **🐛 3. Bug – *“Another word for defect.”***\n",
    "\n",
    "- **📌 Definition**: Common industry term used to refer to a defect.\n",
    "\n",
    "- **🔄 Bug = Defect**\n",
    "\n",
    "- 💬 We mostly say \"bug\" casually or in day-to-day conversation.\n",
    "\n",
    "> 🔄 In your project, when someone says “there’s a bug,” they usually mean “there’s a defect in the system.”"
   ]
  },
  {
   "cell_type": "markdown",
   "id": "4f56f1b6",
   "metadata": {},
   "source": [
    "--------------"
   ]
  },
  {
   "cell_type": "markdown",
   "id": "7690646a",
   "metadata": {},
   "source": [
    "#### **💥 4. Failure – *“When the end user or tester experiences the defect.”***\n",
    "\n",
    "- **📌 Definition**: When the software fails to perform as expected during execution.\n",
    "\n",
    "- **⚙️ Happens in**: Real-time use (QA testing or production)\n",
    "\n",
    "- **🧑‍💼 Example**: Customer pays ₹1000, but booking doesn’t go through because a bug crashed the app.\n",
    "\n",
    "> 🚨 Failure is **what actually happens** during execution (because of a bug or defect)."
   ]
  },
  {
   "cell_type": "markdown",
   "id": "5de3fd48",
   "metadata": {},
   "source": [
    "----------"
   ]
  },
  {
   "cell_type": "markdown",
   "id": "2dc5fc72",
   "metadata": {},
   "source": [
    "#### **🪜 Full Flow Summary**\n",
    "\n",
    "🔹 A **developer makes an error →**\n",
    "\n",
    "🔹 That becomes a **defect/bug in the code →**\n",
    "\n",
    "🔹 If not caught, it leads to **failure** during testing or actual use.\n",
    "\n"
   ]
  },
  {
   "cell_type": "markdown",
   "id": "993e98cd",
   "metadata": {},
   "source": [
    "--------------"
   ]
  },
  {
   "cell_type": "markdown",
   "id": "d091a216",
   "metadata": {},
   "source": [
    "#### **📌 Memory Tip:**\n",
    "\n",
    ">   ❗ **Error → Defect → Bug → Failure**\n",
    "\n",
    "Think of it as the **timeline of a mistake**: From the moment it happens, to the moment it breaks something."
   ]
  },
  {
   "cell_type": "markdown",
   "id": "62b0e8ab",
   "metadata": {},
   "source": [
    "----------"
   ]
  },
  {
   "cell_type": "markdown",
   "id": "a103d0a9",
   "metadata": {},
   "source": [
    "#### **🔄 Real-World Scenario Example:**\n",
    "\n",
    "You're building a payment form:\n",
    "\n",
    "- 👨‍💻 Dev forgets to check if \"Card Number\" is 16 digits (**Error**)\n",
    "\n",
    "- 🧪 Tester notices payment is working with 5 digits (**Defect/Bug**)\n",
    "\n",
    "- 🧑‍💼 A real customer makes a payment, and the app crashes (**Failure**)"
   ]
  }
 ],
 "metadata": {
  "language_info": {
   "name": "python"
  }
 },
 "nbformat": 4,
 "nbformat_minor": 5
}
