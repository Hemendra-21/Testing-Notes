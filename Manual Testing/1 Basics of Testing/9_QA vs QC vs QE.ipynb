{
 "cells": [
  {
   "cell_type": "markdown",
   "id": "c6bf51a6",
   "metadata": {},
   "source": [
    "### **🔹 1. QA – Quality Assurance**"
   ]
  },
  {
   "cell_type": "markdown",
   "id": "d5cc7c5c",
   "metadata": {},
   "source": [
    "##### **✅ Definition:**\n",
    "\n",
    "> **QA** is a **process-oriented** approach that focuses on **preventing defects** by improving and monitoring development processes, standards, and practices.\n",
    "\n"
   ]
  },
  {
   "cell_type": "markdown",
   "id": "082ecf06",
   "metadata": {},
   "source": [
    "#### **📌 Key Points:**\n",
    "\n",
    "- Ensures the **right process** is followed during software development.\n",
    "\n",
    "- Involves **reviewing documents, design, coding standards, test plans**.\n",
    "\n",
    "- QA is done **throughout the SDLC**, not just in the testing phase.\n",
    "\n",
    "- **Does not test the final product directly**."
   ]
  },
  {
   "cell_type": "markdown",
   "id": "eae4ab82",
   "metadata": {},
   "source": [
    "#### **🧑‍💻 Real Example:**\n",
    "\n",
    "You're a QA analyst on an e-commerce project:\n",
    "\n",
    "- You **review the test plan** and confirm it's aligned with requirements.\n",
    "\n",
    "- You **ensure coding standards** are followed.\n",
    "\n",
    "- You perform **requirement traceability checks** to make sure all features are covered.\n",
    "\n"
   ]
  },
  {
   "cell_type": "markdown",
   "id": "b5f16a6a",
   "metadata": {},
   "source": [
    "----------------"
   ]
  },
  {
   "cell_type": "markdown",
   "id": "627a4b3c",
   "metadata": {},
   "source": [
    "### **🔹 2. QC – Quality Control**\n",
    "\n",
    "##### **✅ Definition:**\n",
    "\n",
    "> **QC** is a **product-oriented** approach focused on **detecting defects** in the actual software product through **manual or automated testing**."
   ]
  },
  {
   "cell_type": "markdown",
   "id": "881ac10a",
   "metadata": {},
   "source": [
    "##### **📌 Key Points:**\n",
    "\n",
    "- Ensures the **final product meets requirements**.\n",
    "\n",
    "- Involves **executing test cases**, identifying bugs, and reporting them.\n",
    "\n",
    "- Happens **after development**, during the **testing phase**.\n",
    "\n",
    "- QC = **Actual testing** like Unit, Integration, System, UAT."
   ]
  },
  {
   "cell_type": "markdown",
   "id": "6310e992",
   "metadata": {},
   "source": [
    "##### **🧑‍💻 Real Example:**\n",
    "\n",
    "You're a QC tester:\n",
    "\n",
    "- You test the **login feature** with valid/invalid credentials.\n",
    "\n",
    "- You find a **bug** where the app crashes on logout.\n",
    "\n",
    "- You raise the bug in **Jira** for developers to fix."
   ]
  },
  {
   "cell_type": "markdown",
   "id": "5700137d",
   "metadata": {},
   "source": [
    "------------"
   ]
  },
  {
   "cell_type": "markdown",
   "id": "abf63ce8",
   "metadata": {},
   "source": [
    "### **🔹 3. QE – Quality Engineering**\n",
    "\n",
    "##### **✅ Definition:**\n",
    "\n",
    "> **QE** is a **modern technical role** where engineers focus on **building quality into the system from the beginning**, using **automation, CI/CD, DevOps, and code-level quality practices**."
   ]
  },
  {
   "cell_type": "markdown",
   "id": "92cfbc5c",
   "metadata": {},
   "source": [
    "##### **📌 Key Points:**\n",
    "\n",
    "- Focuses on **engineering quality** at every stage (Shift Left Testing).\n",
    "\n",
    "- Works closely with developers on **automated tests**, pipelines, performance, and scalability.\n",
    "\n",
    "- QE involves **technical skills**: coding, test automation frameworks, CI/CD tools.\n",
    "\n"
   ]
  },
  {
   "cell_type": "markdown",
   "id": "5a14307b",
   "metadata": {},
   "source": [
    "##### **🧑‍💻 Real Example:**\n",
    "\n",
    "You're a QE engineer:\n",
    "\n",
    "- You create **unit and integration test suites** using **Jest/Selenium**.\n",
    "\n",
    "- You integrate automated testing in **GitHub Actions pipeline**.\n",
    "\n",
    "- You **monitor performance** and ensure every commit passes test gates."
   ]
  },
  {
   "cell_type": "markdown",
   "id": "6c466d81",
   "metadata": {},
   "source": [
    "--------------"
   ]
  },
  {
   "cell_type": "markdown",
   "id": "29025611",
   "metadata": {},
   "source": [
    "#### **🔄 QA vs QC vs QE – Comparison Table**\n",
    "\n",
    "| **Feature**      | **QA (Quality Assurance)**                       | **QC (Quality Control)**                              | **QE (Quality Engineering)**                                  |\n",
    "|------------------|--------------------------------------------------|--------------------------------------------------------|----------------------------------------------------------------|\n",
    "| **Focus**        | Process quality                                  | Product quality                                        | Engineering quality into product                               |\n",
    "| **Approach**     | Proactive                                        | Reactive                                               | Proactive + Technical                                           |\n",
    "| **Involves**     | Reviews, audits, standards                       | Manual/automated test execution                        | Automation, CI/CD, code quality, performance                   |\n",
    "| **Goal**         | Prevent defects                                  | Find defects                                           | Build quality into every development step                      |\n",
    "| **Done by**      | QA Analysts / Leads                              | Testers                                                | SDETs / Automation Engineers / DevTesters                      |\n",
    "| **When done**    | Before coding starts                             | After coding is done                                   | During development itself (Shift Left)                         |\n",
    "| **Tools Used**   | Checklists, Quality Metrics                      | Selenium, TestRail, JIRA                               | Cypress, GitHub Actions, Jenkins, JMeter                       |\n",
    "\n"
   ]
  },
  {
   "cell_type": "markdown",
   "id": "a96795bb",
   "metadata": {},
   "source": [
    "---------"
   ]
  },
  {
   "cell_type": "markdown",
   "id": "b168e2cd",
   "metadata": {},
   "source": [
    "\n",
    "#### **🧠 Real-World Analogy – Pizza 🍕**\n",
    "\n",
    "| **Role** | **What They Do**                                                                 |\n",
    "|----------|----------------------------------------------------------------------------------|\n",
    "| **QA**   | Designs the kitchen process, checks recipes are correct, ensures hygiene.        |\n",
    "| **QC**   | Tastes the final pizza before serving — is it cooked, tasty, not burnt?          |\n",
    "| **QE**   | Automates oven timing, adds sensors to auto-check temperature & dough thickness. |\n"
   ]
  },
  {
   "cell_type": "markdown",
   "id": "538e808a",
   "metadata": {},
   "source": [
    "-----------"
   ]
  },
  {
   "cell_type": "markdown",
   "id": "55506f66",
   "metadata": {},
   "source": [
    "#### **🔁 Scenarios Breakdown – QA vs QC vs QE Response**\n",
    "\n",
    "| **Scenario**                  | **QA Response**                                      | **QC Response**                             | **QE Response**                                          |\n",
    "|-------------------------------|------------------------------------------------------|---------------------------------------------|----------------------------------------------------------|\n",
    "| 🔸 Requirements are unclear   | Raise a process improvement ticket                   | Not applicable                              | Ensure coverage through BDD specs                        |\n",
    "| 🔸 Bug in shopping cart       | Might check if process missed review                 | Reproduce it and raise defect               | Write test to catch it early next time                   |\n",
    "| 🔸 Slow build and deployment  | Might raise dev process concern                      | Not applicable                              | Optimize pipeline using CI/CD tools                      |\n"
   ]
  }
 ],
 "metadata": {
  "language_info": {
   "name": "python"
  }
 },
 "nbformat": 4,
 "nbformat_minor": 5
}
