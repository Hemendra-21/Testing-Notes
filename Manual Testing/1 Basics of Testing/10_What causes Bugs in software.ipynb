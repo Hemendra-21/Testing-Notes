{
 "cells": [
  {
   "cell_type": "markdown",
   "id": "e280ee98",
   "metadata": {},
   "source": [
    "### **🐞 What Causes Bugs in Software?**\n",
    "\n"
   ]
  },
  {
   "cell_type": "markdown",
   "id": "45a088fd",
   "metadata": {},
   "source": [
    "##### **✅ What is a Bug?**\n",
    "\n",
    "> A **bug** is a defect or flaw in a software program that causes it to behave unexpectedly or incorrectly.\n",
    "\n",
    "In short: **\"The app broke. Again.\"** 😬\n",
    "\n"
   ]
  },
  {
   "cell_type": "markdown",
   "id": "03933479",
   "metadata": {},
   "source": [
    "#### **🤯 Top Reasons Why Bugs Occur**\n",
    "\n",
    "| #   | **Cause**                    | **What It Means**                                                               | **Funny/Real-Life Scenario**                                                                 |\n",
    "|-----|------------------------------|----------------------------------------------------------------------------------|----------------------------------------------------------------------------------------------|\n",
    "| 1️⃣ | Misunderstood Requirements   | Developer and client see the same sentence but think of different planets 🌍🪐   | Client: “I want a button.” <br> Dev: Adds a button that doesn’t do anything                |\n",
    "| 2️⃣ | Poor Communication           | Devs, testers, BAs, PMs – someone always forgets to mention something important | Tester: “Nobody told me about the dark mode.” <br> Dev: “I didn’t know you didn’t know.”   |\n",
    "| 3️⃣ | Changing Requirements        | Client keeps updating features like changing clothes during a fashion show 👗    | Mon: “Add OTP login.” <br> Wed: “Remove OTP, add fingerprint.” <br> Fri: “Use QR scan.”    |\n",
    "| 4️⃣ | Lack of Version Control      | Multiple people working on the same code — without Git = recipe for chaos        | Dev A: “Fixed it.” <br> Dev B: “Broke it again 5 mins later.”                              |\n",
    "| 5️⃣ | Copy-Paste Coding            | Reusing StackOverflow without understanding — the national hobby 🧠📋             | “It worked there, should work here too… oh wait… now nothing works.”                       |\n",
    "| 6️⃣ | Inadequate Testing           | Testing only “happy paths” — ignoring edge cases and angry users 😡              | “It works fine… unless you enter 9999999999 characters in the username.”                   |\n",
    "| 7️⃣ | Human Errors (Typos)         | One missing semicolon can destroy your career for 2 hours                        | `=` instead of `==` → Hello infinite loop! 👋                                               |\n",
    "| 8️⃣ | Bad Code Practices           | No comments, no structure, one file named `final_final_v2_real.js`               | Future Dev: “What the hell is this?” <br> Original Dev: “I was in a rush.”                 |\n",
    "| 9️⃣ | Integration Issues           | Frontend and backend in a toxic relationship 💔                                   | Frontend: `email_id` <br> Backend: `mail_id` <br> App: crashes silently                   |\n",
    "| 🔟  | Environment/Compatibility Issues | Works on the developer's machine but nowhere else 🖥️💣                          | Dev: “It runs on my PC.” <br> Tester: “Cool. I’ll ship your PC to the client then?”        |\n"
   ]
  },
  {
   "cell_type": "markdown",
   "id": "b10707d4",
   "metadata": {},
   "source": [
    "#### **🧑‍💻 Developer View:**"
   ]
  },
  {
   "cell_type": "code",
   "execution_count": null,
   "id": "458c28ec",
   "metadata": {
    "vscode": {
     "languageId": "javascript"
    }
   },
   "outputs": [],
   "source": [
    "// Works on my machine\n",
    "function login() {\n",
    "  return true;\n",
    "}"
   ]
  },
  {
   "cell_type": "markdown",
   "id": "ad4e0e2d",
   "metadata": {},
   "source": [
    "#### **👨‍🔬 Tester View:**\n",
    "\n",
    "> App crashes when user clicks login with empty password."
   ]
  },
  {
   "cell_type": "markdown",
   "id": "c1e1c512",
   "metadata": {},
   "source": [
    "#### **🔎 How Testers Help Avoid Bugs**\n",
    "\n",
    "| ✅ **Action**               | **Description**                                           |\n",
    "|----------------------------|-----------------------------------------------------------|\n",
    "| Review Requirements        | Catch missing or unclear parts early                      |\n",
    "| Test Early (Shift Left)    | Catch bugs before full system is built                    |\n",
    "| Test Different Scenarios   | Positive, negative, edge cases                            |\n",
    "| Communicate Actively       | Clarify doubts with devs and clients                      |\n",
    "| Use Checklists             | To avoid missing common test points                       |\n"
   ]
  },
  {
   "cell_type": "markdown",
   "id": "fecde747",
   "metadata": {},
   "source": [
    "#### **💡 Conclusion:**\n",
    "\n",
    "> Bugs are born when **humans write code**, **clients change their minds**, and **nobody talks to each other**."
   ]
  },
  {
   "cell_type": "markdown",
   "id": "440c412e",
   "metadata": {},
   "source": [
    "But with:\n",
    "\n",
    "- 👨‍💻 Good development practices\n",
    "\n",
    "- 🧪 Thorough testing\n",
    "\n",
    "- 🔄 Continuous communication\n",
    "\n",
    "👉 Bugs can be reduced (but never eliminated fully… let’s be real 😅)."
   ]
  }
 ],
 "metadata": {
  "language_info": {
   "name": "python"
  }
 },
 "nbformat": 4,
 "nbformat_minor": 5
}
