{
 "cells": [
  {
   "cell_type": "markdown",
   "id": "c62cd498",
   "metadata": {},
   "source": [
    "### **🔷 1. USE CASE – The Story of the User**\n",
    "#### **✅ Definition:**\n",
    "\n",
    "A **Use Case** describes **how a user (actor)** interacts with a **system** to achieve a specific goal.\n",
    "\n",
    "It’s not written for testers — it's written for **developers, business analysts, and stakeholders** to understand system behavior."
   ]
  },
  {
   "cell_type": "markdown",
   "id": "32992e50",
   "metadata": {},
   "source": [
    "#### **📘 Format: (Standard by UML / BA Docs)**\n",
    "\n",
    "\n",
    "| **Field**          | **Description**                                                                 |\n",
    "|--------------------|---------------------------------------------------------------------------------|\n",
    "| **Use Case ID**     | UC_Login_001                                                                   |\n",
    "| **Title**           | User logs into the web application                                              |\n",
    "| **Actor**           | Registered user                                                                |\n",
    "| **Pre-condition**   | User must already be registered with a valid username/password                 |\n",
    "| **Main Flow**       | 1. User enters credentials<br>2. Clicks login<br>3. Navigates to dashboard     |\n",
    "| **Alternate Flows** | - Invalid password → Show error<br>- Empty fields → Show validation error      |\n",
    "| **Post-condition**  | User is either logged in or shown an appropriate error                         |\n"
   ]
  },
  {
   "cell_type": "markdown",
   "id": "f8d7aa0e",
   "metadata": {},
   "source": [
    "#### **🧠 Example:**\n",
    "\n",
    "**Use Case: Add item to cart**\n",
    "\n",
    "- **Actor**: Authenticated user\n",
    "\n",
    "- **Flow**:\n",
    "\n",
    "    - Login\n",
    "\n",
    "    - Search for product\n",
    "\n",
    "    - Click on product\n",
    "\n",
    "    - Click “Add to Cart”\n",
    "\n",
    "    - Cart count increases\n",
    "\n",
    "- **Alternate Flow**: Item out of stock → show alert"
   ]
  },
  {
   "cell_type": "markdown",
   "id": "21ce53f3",
   "metadata": {},
   "source": [
    "#### **👓 Why It's Important:**\n",
    "\n",
    "- Helps developers understand **feature logic**\n",
    "\n",
    "- Helps testers create **Test Scenarios & Test Cases**\n",
    "\n",
    "- Used early in **SDLC — Requirement Gathering / Analysis phase**"
   ]
  },
  {
   "cell_type": "markdown",
   "id": "1dc03ec7",
   "metadata": {},
   "source": [
    "#### **⚖️ Ownership:**\n",
    "\n",
    "- Written by: **Business Analyst (BA)**\n",
    "\n",
    "- Used by: **BA, Developer, QA**"
   ]
  },
  {
   "cell_type": "markdown",
   "id": "628b2e7a",
   "metadata": {},
   "source": [
    "-----------------"
   ]
  },
  {
   "cell_type": "markdown",
   "id": "836760d5",
   "metadata": {},
   "source": [
    "### **🔷 2. TEST SCENARIO – What to Test**\n",
    "\n",
    "#### **✅ Definition:**\n",
    "\n",
    "A **Test Scenario** is a high-level **testable condition or situation** that describes **what** needs to be tested.\n",
    "\n",
    "It’s derived from **use cases, requirements,** or user stories.\n",
    "\n",
    "> 💡 It’s a **one-liner** or short phrase that represents a functionality."
   ]
  },
  {
   "cell_type": "markdown",
   "id": "bf1db90e",
   "metadata": {},
   "source": [
    "#### **🧠 Examples:**\n",
    "\n",
    "For the use case **“User logs into the system”**, you might derive:\n",
    "\n",
    "| **Test Scenario ID** | **Scenario Description**                          |\n",
    "|----------------------|---------------------------------------------------|\n",
    "| TS_Login_01          | Verify login with valid credentials               |\n",
    "| TS_Login_02          | Verify login with invalid password                |\n",
    "| TS_Login_03          | Verify login with empty fields                    |\n",
    "| TS_Login_04          | Verify \"Forgot Password\" functionality            |\n"
   ]
  },
  {
   "cell_type": "markdown",
   "id": "06ee22d1",
   "metadata": {},
   "source": [
    "**🔁 One Scenario → Multiple Test Cases:**\n",
    "\n",
    "> Example:\n",
    "\n",
    "> **Scenario**: Test login with invalid credentials\n",
    "\n",
    "> You may write **5 test cases** to test invalid email, wrong password, empty fields, SQL injection, etc."
   ]
  },
  {
   "cell_type": "markdown",
   "id": "7ec6b5c7",
   "metadata": {},
   "source": [
    "#### **⚖️ Ownership:**\n",
    "\n",
    "- Written by: **QA/Test Analyst**\n",
    "\n",
    "- Used by: **QA/Testers**\n",
    "\n"
   ]
  },
  {
   "cell_type": "markdown",
   "id": "95b0bf4f",
   "metadata": {},
   "source": [
    "#### **🔍 When It’s Used:**\n",
    "\n",
    "- **Test Planning Phase** of STLC\n",
    "\n",
    "- Used to **scope testing coverage**\n",
    "\n",
    "- Shared with stakeholders to show **testing intent** without boring them to sleep with 1000 test cases 😴"
   ]
  },
  {
   "cell_type": "markdown",
   "id": "abb09e3d",
   "metadata": {},
   "source": [
    "-------------"
   ]
  },
  {
   "cell_type": "markdown",
   "id": "e19b3179",
   "metadata": {},
   "source": [
    "### **🔷 3. TEST CASE – How to Test**\n",
    "\n",
    "#### **✅ Definition:**\n",
    "\n",
    "A **Test Case** is a **detailed instruction document** that explains **how to test** a particular functionality — including **test data, steps, and expected result.**\n",
    "\n",
    "> 🎯 Think of it as a recipe: \"Here’s what to cook, how to cook, and what it should taste like.\""
   ]
  },
  {
   "cell_type": "markdown",
   "id": "590b30a7",
   "metadata": {},
   "source": [
    "#### **🧾 Sample Format:**\n",
    "\n",
    "| **Field**         | **Example**                                                                 |\n",
    "|-------------------|------------------------------------------------------------------------------|\n",
    "| **Test Case ID**   | TC_Login_01                                                                  |\n",
    "| **Title**          | Login with valid credentials                                                 |\n",
    "| **Pre-condition**  | User account exists                                                          |\n",
    "| **Steps**          | 1. Open login page<br>2. Enter valid username/password<br>3. Click login     |\n",
    "| **Test Data**      | Username: `qa_user@mail.com`, Password: `Test@123`                           |\n",
    "| **Expected Result**| User should land on the dashboard                                            |\n",
    "| **Actual Result**  | *(Filled after execution)*                                                   |\n",
    "| **Status**         | Pass / Fail                                                                  |\n"
   ]
  },
  {
   "cell_type": "markdown",
   "id": "9031a09b",
   "metadata": {},
   "source": [
    "#### **📌 Test Case Types:**\n",
    "\n",
    "- **✅ Positive Test Cases** – Valid input, expected behavior\n",
    "\n",
    "- **❌ Negative Test Cases** – Invalid inputs, error handling\n",
    "\n",
    "- **🔁 Regression Test Cases** – Re-run after changes\n",
    "\n",
    "- **⚙️ Automated Test Cases** – Written in scripts/tools\n",
    "\n"
   ]
  },
  {
   "cell_type": "markdown",
   "id": "83e4686f",
   "metadata": {},
   "source": [
    "#### **⚖️ Ownership:**\n",
    "\n",
    "- Written by: **QA Engineers**\n",
    "\n",
    "- Used in: **Execution Phase** of STLC\n",
    "\n",
    "- Can be automated later for **CI/CD**"
   ]
  },
  {
   "cell_type": "markdown",
   "id": "690cc8f4",
   "metadata": {},
   "source": [
    "#### **🧾 Full Analogy Summary – Use Case vs Test Scenario vs Test Case**\n",
    "\n",
    "| **Concept**   | **Purpose**                       | **Level** | **Detail**   | **Example**                                 |\n",
    "|---------------|-----------------------------------|-----------|--------------|----------------------------------------------|\n",
    "| Use Case      | Describes user-system interaction | High      | General      | UC: User books a ride                        |\n",
    "| Test Scenario | Identifies what to test           | Mid       | Moderate     | TS: Test ride booking with valid address     |\n",
    "| Test Case     | Details how to test with data & steps | Low   | Precise      | TC: Step-by-step ride booking flow           |\n"
   ]
  },
  {
   "cell_type": "markdown",
   "id": "65d638d4",
   "metadata": {},
   "source": [
    "#### **🛠 Use Case → Test Scenario → Test Case Flow (Example)**\n",
    "\n",
    "**🧾 Use Case: User books a flight**\n",
    "\n",
    "- Actor: User\n",
    "\n",
    "- Goal: Book a flight\n",
    "\n",
    "- Flow: Login → Search → Select → Pay → Confirmation\n",
    "\n",
    "#### **🔍 Derived Test Scenarios:**\n",
    "\n",
    "- TS: Test flight booking with valid user\n",
    "\n",
    "- TS: Test booking with invalid payment method\n",
    "\n",
    "- TS: Test booking with expired session\n",
    "\n",
    "\n",
    "#### **🧪 Test Case (for Scenario 1):**\n",
    "\n",
    "- Steps:\n",
    "\n",
    "    - Go to login\n",
    "\n",
    "    - Enter credentials\n",
    "\n",
    "    - Search flight\n",
    "\n",
    "    - Select flight\n",
    "\n",
    "    - Enter payment\n",
    "\n",
    "    - Confirm booking\n",
    "\n",
    "- Expected: Booking success message"
   ]
  }
 ],
 "metadata": {
  "language_info": {
   "name": "python"
  }
 },
 "nbformat": 4,
 "nbformat_minor": 5
}
