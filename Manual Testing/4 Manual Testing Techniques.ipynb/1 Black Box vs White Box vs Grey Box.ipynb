{
 "cells": [
  {
   "cell_type": "markdown",
   "id": "97302252",
   "metadata": {},
   "source": [
    "#### **🧰 1. BLACK BOX TESTING – *“I don’t care how it’s built. I’ll still break it.”***\n",
    "\n",
    "**🧠 Definition:**\n",
    "\n",
    "Testing without looking at the internal code or logic. Focus is on inputs and outputs — like a user.\n",
    "\n",
    "> **\"Does the system do what it's supposed to do, or does it panic and throw errors like my toaster during load shedding?\"**\n",
    "\n",
    "**🔍 Example:**\n",
    "\n",
    "You test a login form.\n",
    "\n",
    "You don’t know whether it's React, Angular, or sorcery behind the scenes.\n",
    "\n",
    "You just:\n",
    "\n",
    "- Enter a username and password\n",
    "\n",
    "- Click login\n",
    "\n",
    "- Expect: Dashboard opens\n",
    "\n",
    "- If it says *\"500 Server Error\"*, you scream: \"Hey Devs! Something’s wrong!!\"\n",
    "\n"
   ]
  },
  {
   "cell_type": "markdown",
   "id": "2a114c1a",
   "metadata": {},
   "source": [
    "#### **✅ Key Points of Functional Testing**\n",
    "\n",
    "| Aspect           | Description                             |\n",
    "|------------------|-----------------------------------------|\n",
    "| **Access to Code**   | ❌ No                                  |\n",
    "| **Performed By**     | QA / Testers                          |\n",
    "| **What’s Tested**    | UI, functionality, UX                 |\n",
    "| **Focus**            | Input → Output                        |\n",
    "| **Tools**            | Selenium, Cypress, Postman            |\n"
   ]
  },
  {
   "cell_type": "markdown",
   "id": "e2f10734",
   "metadata": {},
   "source": [
    "#### **😎 Real-life Analogy:**\n",
    "\n",
    "Ordering food via Swiggy.\n",
    "\n",
    "You tap, order biryani, and expect it at your door.\n",
    "\n",
    "You don’t care how the kitchen works — but if you get **curd rice instead of biryani**, you file a bug (and maybe a lawsuit)."
   ]
  },
  {
   "cell_type": "markdown",
   "id": "20df6624",
   "metadata": {},
   "source": [
    "----------------"
   ]
  },
  {
   "cell_type": "markdown",
   "id": "1ce23f4d",
   "metadata": {},
   "source": [
    "#### **🧠 2. WHITE BOX TESTING – *“I see your code… and I will destroy your assumptions.”***\n",
    "\n",
    "**🧠 Definition:**\n",
    "\n",
    "Testing with **full knowledge of the internal code, logic, loops, and conditions**.\n",
    "Used by **developers** or testers with coding skills.\n",
    "\n",
    "> **\"Not only do I know you wrote that if condition wrong, I also wrote a test to prove it.\"**\n",
    "\n",
    "#### **🔍 Example:**\n",
    "\n",
    "You're testing a function `calculateDiscount(price, customerType)`\n",
    "You:\n",
    "\n",
    "- Check all code paths (like what happens if customerType is 'VIP', 'REGULAR', 'GUEST')\n",
    "\n",
    "- Run unit tests\n",
    "\n",
    "- Check edge cases like 0, negative price, huge number\n",
    "\n",
    "- Aim for 💯% code coverage"
   ]
  },
  {
   "cell_type": "markdown",
   "id": "2c7ad816",
   "metadata": {},
   "source": [
    "#### **✅ Key Points of Code-Level Testing (White Box)**\n",
    "\n",
    "| Aspect             | Description                            |\n",
    "|--------------------|----------------------------------------|\n",
    "| **Access to Code**     | ✅ Full                               |\n",
    "| **Performed By**       | Developers / SDETs                   |\n",
    "| **What’s Tested**      | Logic, paths, security               |\n",
    "| **Focus**              | Code structure and behavior          |\n",
    "| **Tools**              | JUnit, PyTest, Jasmine, Istanbul     |\n",
    "\n",
    "\n",
    "\n",
    "#### **😎 Real-life Analogy:**\n",
    "\n",
    "You’re not just eating the cake 🍰 — you’re checking the recipe, baking temperature, and sugar ratio.\n",
    "\n",
    "You even say: “Next time, use 3 eggs instead of 2. That's why it's dense.” 🤓"
   ]
  },
  {
   "cell_type": "markdown",
   "id": "a77574eb",
   "metadata": {},
   "source": [
    "--------------"
   ]
  },
  {
   "cell_type": "markdown",
   "id": "09abd8c6",
   "metadata": {},
   "source": [
    "#### **🎭 3. GREY BOX TESTING – *“I know just enough to make your system cry.”***\n",
    "\n",
    "#### **🧠 Definition:**\n",
    "\n",
    "Testing with **partial knowledge** of the system.\n",
    "Usually **QA engineers with access to APIs, database, architecture, logs, or low-level details.**\n",
    "\n",
    "> **\"I'm not your developer, but I know where your system is fragile, buddy.\"**\n",
    "\n",
    "#### **🔍 Example:**\n",
    "\n",
    "- You’re testing an e-commerce app.\n",
    "\n",
    "- You can see the front-end, **but you also check API responses, logs, or DB records.**\n",
    "\n",
    "- You know a price is fetched from table `products_price` so you test for DB consistency too.\n",
    "\n",
    "\n",
    "#### **✅ Key Points of Gray Box Testing**\n",
    "\n",
    "| Aspect             | Description                                 |\n",
    "|--------------------|---------------------------------------------|\n",
    "| **Access to Code**     | 🤏 Partial                                 |\n",
    "| **Performed By**       | QA with technical knowledge               |\n",
    "| **What’s Tested**      | API, DB, UI, system integration           |\n",
    "| **Focus**              | Internal + External flow                  |\n",
    "| **Tools**              | Postman, Swagger, SQL, Charles Proxy      |\n",
    "\n",
    "\n",
    "#### **😎 Real-life Analogy:**\n",
    "\n",
    "You're eating the cake, **you don’t know the recipe**, but you *saw them add expired milk*.\n",
    "So now you’re testing **if your stomach survives**. 🤢"
   ]
  },
  {
   "cell_type": "markdown",
   "id": "3a4d3421",
   "metadata": {},
   "source": [
    "#### **🎯 When to Use What?**\n",
    "\n",
    "| Situation                         | Use        |\n",
    "|----------------------------------|------------|\n",
    "| Testing user workflows & UI      | 🧱 Black Box |\n",
    "| Validating core logic and code   | 🧠 White Box |\n",
    "| API/DB/log testing + UI flows    | 🎭 Grey Box |\n"
   ]
  },
  {
   "cell_type": "markdown",
   "id": "9a3e0790",
   "metadata": {},
   "source": [
    "#### **👨‍💻 Real Project Example:**\n",
    "\n",
    "You're testing a ride-booking app:\n",
    "\n",
    "- 🚗 **Black Box** → Test ride booking flow (UI: pickup to payment)\n",
    "\n",
    "- 🔍 **White Box** → Developer writes unit tests for fare calculation\n",
    "\n",
    "- 🎭 **Grey Box** → QA verifies backend APIs, DB fare value, ride logs\n",
    "\n"
   ]
  }
 ],
 "metadata": {
  "language_info": {
   "name": "python"
  }
 },
 "nbformat": 4,
 "nbformat_minor": 5
}
