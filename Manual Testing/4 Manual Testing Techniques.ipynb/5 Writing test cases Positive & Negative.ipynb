{
 "cells": [
  {
   "cell_type": "markdown",
   "id": "b9ec0409",
   "metadata": {},
   "source": [
    "#### **🎯 What are Positive & Negative Test Cases?**\n",
    "\n",
    "**✅ Positive Test Case**\n",
    "\n",
    "> *“Everything goes as expected. You’re the ideal user. The golden child of QA.”*\n",
    "\n",
    "It verifies that the **system works as expected with valid data** under normal conditions."
   ]
  },
  {
   "cell_type": "markdown",
   "id": "ec0aa85f",
   "metadata": {},
   "source": [
    "----------"
   ]
  },
  {
   "cell_type": "markdown",
   "id": "b84bc523",
   "metadata": {},
   "source": [
    " **❌ Negative Test Case**\n",
    "\n",
    "> *“Let’s see how gracefully your app handles garbage.”*\n",
    "\n",
    "It checks how the system behaves with **invalid, incorrect, unexpected, or missing inputs**."
   ]
  },
  {
   "cell_type": "markdown",
   "id": "2574fee4",
   "metadata": {},
   "source": [
    "--------"
   ]
  },
  {
   "cell_type": "markdown",
   "id": "e6548b99",
   "metadata": {},
   "source": [
    "### **🔍 Real-World Example: Login Page**\n",
    "\n",
    "**Requirement**: A user can log in with valid email and password."
   ]
  },
  {
   "cell_type": "markdown",
   "id": "757ea690",
   "metadata": {},
   "source": [
    "#### **✳️ Positive Test Cases – Login Functionality**\n",
    "\n",
    "| **ID**        | **Title**                    | **Steps**                                      | **Test Data**                                               | **Expected Result**           |\n",
    "|---------------|------------------------------|------------------------------------------------|-------------------------------------------------------------|-------------------------------|\n",
    "| TC_Login_01   | Valid login                  | Enter valid email and password → Click login   | Email: `user@mail.com`<br>Password: `Valid@123`             | Redirect to dashboard         |\n",
    "| TC_Login_02   | Case-insensitive email login | Enter valid email in uppercase → Click login   | Email: `USER@MAIL.COM`                                      | Login successful              |\n"
   ]
  },
  {
   "cell_type": "markdown",
   "id": "92de3301",
   "metadata": {},
   "source": [
    "#### **❌ Negative Test Cases – Login Functionality**\n",
    "\n",
    "| **ID**        | **Title**                  | **Steps**                                             | **Test Data**                              | **Expected Result**                     |\n",
    "|---------------|----------------------------|-------------------------------------------------------|--------------------------------------------|------------------------------------------|\n",
    "| TC_Login_03   | Invalid password           | Enter valid email and wrong password → Click login    | Password: `WrongPass`                      | Show \"Invalid credentials\" message       |\n",
    "| TC_Login_04   | Empty email                | Leave email empty, enter password → Click login       | Email: *(empty)*                           | Show \"Email is required\" error           |\n",
    "| TC_Login_05   | SQL injection attack       | Enter `' OR 1=1--` as email and click login           | Email: `' OR 1=1--`                        | Reject input, do not login               |\n",
    "| TC_Login_06   | Invalid email format       | Enter `test.com` as email and click login             | Email: `test.com`                          | Show \"Invalid email format\"              |\n",
    "| TC_Login_07   | Password too short         | Enter password with 3 characters                      | Password: `abc`                            | Show \"Password too short\" error          |\n"
   ]
  },
  {
   "cell_type": "markdown",
   "id": "8425d609",
   "metadata": {},
   "source": [
    "#### **📦 Format Template (Manual Testing)**"
   ]
  },
  {
   "cell_type": "markdown",
   "id": "9a9ac969",
   "metadata": {},
   "source": [
    "Test Case ID:\n",
    "\n",
    "Test Scenario:\n",
    "\n",
    "Pre-conditions:\n",
    "\n",
    "Test Steps:\n",
    "\n",
    "Test Data:\n",
    "\n",
    "Expected Result:\n",
    "\n",
    "Actual Result:\n",
    "\n",
    "Status: Pass/Fail"
   ]
  },
  {
   "cell_type": "markdown",
   "id": "e4acde71",
   "metadata": {},
   "source": [
    "#### **🧠 Why Write Both Positive and Negative Test Cases?**\n",
    "\n",
    "| **Type**    | **Purpose**                                      |\n",
    "|-------------|--------------------------------------------------|\n",
    "| Positive    | Ensure app works with valid inputs               |\n",
    "| Negative    | Ensure app gracefully handles invalid inputs     |\n",
    "\n",
    "\n",
    "\n",
    "> ✅ *“Positive TC = Things should work”*  \n",
    "> ❌ *“Negative TC = Things should not crash horribly when they don’t”*\n"
   ]
  },
  {
   "cell_type": "markdown",
   "id": "662a00da",
   "metadata": {},
   "source": [
    "-----"
   ]
  },
  {
   "cell_type": "markdown",
   "id": "b0048985",
   "metadata": {},
   "source": [
    "### **🧪 More Examples: Signup Form**\n",
    "\n",
    "#### **✳️ Positive:**\n",
    "\n",
    "- All fields filled with valid data → Account created\n",
    "\n",
    "- Password meets criteria (length, uppercase, number)\n",
    "\n",
    "#### **❌ Negative:**\n",
    "\n",
    "- Invalid email format → Error\n",
    "\n",
    "- Password = “123” → Rejected\n",
    "\n",
    "- Empty required fields → Show required alerts\n",
    "\n",
    "- Duplicate email → “Email already registered”"
   ]
  },
  {
   "cell_type": "markdown",
   "id": "f7149fb2",
   "metadata": {},
   "source": [
    "-------"
   ]
  },
  {
   "cell_type": "markdown",
   "id": "ca331609",
   "metadata": {},
   "source": [
    "### **🔐 Security-Oriented Negative Test Cases**\n",
    "\n",
    "| **Test Case**           | **Description**                                 | **Expected Outcome**                                 |\n",
    "|-------------------------|-------------------------------------------------|-------------------------------------------------------|\n",
    "| TC_Signup_SQLInjection  | Enter `' OR '1'='1` in input fields             | Should not log in; show validation                    |\n",
    "| TC_XSS_Attack           | Enter `<script>alert(1)</script>` in input     | Input must be sanitized; no popup should appear       |\n",
    "| TC_MalformedInput       | Enter random binary/emoji input in name field  | Show error message; system should not crash or hang   |\n"
   ]
  },
  {
   "cell_type": "markdown",
   "id": "3c2d574a",
   "metadata": {},
   "source": [
    "##### **🧠 QA Best Practices**\n",
    "\n",
    "✅ For **every positive case**, write **at least 1–2 negative cases**\n",
    "\n",
    "✅ Use real-world, edge, and unexpected scenarios\n",
    "\n",
    "✅ Always include:\n",
    "\n",
    "- Boundary tests (e.g., 1-char username, 100-char email)\n",
    "\n",
    "- Invalid formats\n",
    "\n",
    "- Empty fields\n",
    "\n",
    "- Repeated entries (e.g., duplicate emails)"
   ]
  },
  {
   "cell_type": "markdown",
   "id": "b11cfb56",
   "metadata": {},
   "source": [
    "#### **😅 Real-World Analogy**\n",
    "\n",
    "**Positive Test:**\n",
    "\n",
    "👨‍💻 “Entered name: ‘Hemendra’, email: hemendra@gmail.com” → Works great.\n",
    "\n",
    "**Negative Test:**\n",
    "\n",
    "👨‍💻 “Entered name: `😈🔥&%`, email: `he@he`” → Let’s see if it explodes 💣"
   ]
  },
  {
   "cell_type": "markdown",
   "id": "441b40ce",
   "metadata": {},
   "source": [
    "-----"
   ]
  },
  {
   "cell_type": "markdown",
   "id": "42d04e3b",
   "metadata": {},
   "source": [
    "#### **💡 Tips for Writing Better Test Cases**\n",
    "\n",
    "| **✅ Do**                            | **🚫 Avoid**                                         |\n",
    "|-------------------------------------|------------------------------------------------------|\n",
    "| Write in simple, step-by-step       | Long, vague, or combined steps                      |\n",
    "| Use clear expected results          | Just saying “Works” or “Fails”                      |\n",
    "| Cover edge cases                    | Only happy path testing                             |\n",
    "| Add both positive and negative cases| Ignoring failure possibilities                      |\n"
   ]
  }
 ],
 "metadata": {
  "language_info": {
   "name": "python"
  }
 },
 "nbformat": 4,
 "nbformat_minor": 5
}
