{
 "cells": [
  {
   "cell_type": "markdown",
   "id": "c12e470e",
   "metadata": {},
   "source": [
    "### **🧪 Static Testing vs Dynamic Testing**\n",
    "\n",
    "> *“One catches bugs before code even runs, the other watches it fail in action.”*"
   ]
  },
  {
   "cell_type": "markdown",
   "id": "eda61ea0",
   "metadata": {},
   "source": [
    "#### **🧊 1. STATIC TESTING**\n",
    "\n",
    "> **“Testing without executing the code.”**\n",
    "\n",
    "> Think of it as checking your exam paper **before submitting it** — without actually writing the exam."
   ]
  },
  {
   "cell_type": "markdown",
   "id": "885064e2",
   "metadata": {},
   "source": [
    "#### **✅ Definition:**\n",
    "\n",
    "Static testing involves **reviewing the code, documents, or requirements** to find issues **early in the development cycle** — *before the software runs.*"
   ]
  },
  {
   "cell_type": "markdown",
   "id": "2ef663f8",
   "metadata": {},
   "source": [
    "#### **🧠 What You Test in Static Testing:**\n",
    "\n",
    "- Requirements documents\n",
    "\n",
    "- Design documents\n",
    "\n",
    "- Test cases\n",
    "\n",
    "- Source code (via code review or static analysis tools)\n",
    "\n"
   ]
  },
  {
   "cell_type": "markdown",
   "id": "3b14ac1d",
   "metadata": {},
   "source": [
    "#### **🧪 Techniques in Static Testing**\n",
    "\n",
    "| Technique       | Description                                                                 |\n",
    "|----------------|-----------------------------------------------------------------------------|\n",
    "| ✅ Review        | Manual checking of code/docs (peer reviews, walkthroughs, inspections)       |\n",
    "| ⚙️ Static Analysis | Automated tool-based analysis (e.g., SonarQube, ESLint, Pylint)              |\n"
   ]
  },
  {
   "cell_type": "markdown",
   "id": "79bca335",
   "metadata": {},
   "source": [
    "#### **😎 Example Scenario:**\n",
    "\n",
    "You review the login page design doc and find:\n",
    "\n",
    "- No mention of password complexity rules\n",
    "\n",
    "- Forgot the “Forgot Password” link\n",
    "\n",
    "Congrats! You just caught a bug **without writing a single line of code.**"
   ]
  },
  {
   "cell_type": "markdown",
   "id": "4ff86478",
   "metadata": {},
   "source": [
    "#### **🤖 Tools Used:**\n",
    "\n",
    "- SonarQube, Checkstyle, Pylint, ESLint\n",
    "\n",
    "- Manual checklists for code/doc review\n",
    "\n"
   ]
  },
  {
   "cell_type": "markdown",
   "id": "4662e201",
   "metadata": {},
   "source": [
    "#### **📌 Real-Life Analogy:**\n",
    "\n",
    "It’s like proofreading your resume before applying to a job.\n",
    "\n",
    "**Static Testing** = You find “I am a hardworking and deicated devloper” 😬\n",
    "\n",
    "Good thing you checked!"
   ]
  },
  {
   "cell_type": "markdown",
   "id": "744a64ec",
   "metadata": {},
   "source": [
    "----\n",
    "-------"
   ]
  },
  {
   "cell_type": "markdown",
   "id": "51fa0446",
   "metadata": {},
   "source": [
    "#### **🔥 2. DYNAMIC TESTING**\n",
    "\n",
    "> **“Testing while executing the code.”**\n",
    "\n",
    "> This is where you **run the application** and **observe its behavior** under various conditions."
   ]
  },
  {
   "cell_type": "markdown",
   "id": "73502692",
   "metadata": {},
   "source": [
    "#### **✅ Definition:**\n",
    "\n",
    "Dynamic testing is done **after code is developed** and involves **executing the software** to validate its functionality and performance.\n",
    "\n",
    "##### **🧠 What You Test in Dynamic Testing:**\n",
    "\n",
    "- UI behavior\n",
    "\n",
    "- Functional correctness\n",
    "\n",
    "- Performance under load\n",
    "\n",
    "- Security and reliability"
   ]
  },
  {
   "cell_type": "markdown",
   "id": "8f0a15d3",
   "metadata": {},
   "source": [
    "#### **🔬 Types of Dynamic Testing**\n",
    "\n",
    "| Level of Testing       | Examples                                         |\n",
    "|------------------------|--------------------------------------------------|\n",
    "| 🧪 Unit Testing         | Function/module-level tests                      |\n",
    "| 🔗 Integration Testing  | How modules work together                        |\n",
    "| 🌐 System Testing       | Whole app from end to end                        |\n",
    "| 🧑‍🤝‍🧑 UAT               | Tested by real users for acceptance              |\n",
    "| 🔥 Smoke/Sanity         | Build stability, quick check after changes       |\n",
    "| 🎯 Regression Testing   | Ensure old features still work                   |\n"
   ]
  },
  {
   "cell_type": "markdown",
   "id": "599e8845",
   "metadata": {},
   "source": [
    "#### **😎 Example Scenario:**\n",
    "\n",
    "You click \"Sign Up\" and the app crashes with `TypeError: cannot read property ‘email’ of undefined.`\n",
    "\n",
    "Yay! You’ve just **found a dynamic bug by running it live**."
   ]
  },
  {
   "cell_type": "markdown",
   "id": "131343ad",
   "metadata": {},
   "source": [
    "#### **⚙️ Tools Used:**\n",
    "\n",
    "- Selenium, Cypress, JUnit, Postman, LoadRunner, JMeter, PyTest"
   ]
  },
  {
   "cell_type": "markdown",
   "id": "de0d465d",
   "metadata": {},
   "source": [
    "#### **📌 Real-Life Analogy:**\n",
    "\n",
    "You practiced your speech (Static).\n",
    "\n",
    "You go on stage and forget your lines midway (Dynamic bug).\n",
    "\n",
    "Oops. Should’ve done both."
   ]
  },
  {
   "cell_type": "markdown",
   "id": "f811c803",
   "metadata": {},
   "source": [
    "#### **🆚 STATIC vs DYNAMIC – 🔍 Key Differences**\n",
    "\n",
    "| Feature             | Static Testing                          | Dynamic Testing                                |\n",
    "|---------------------|------------------------------------------|-------------------------------------------------|\n",
    "| **Code Execution**  | ❌ No                                     | ✅ Yes                                          |\n",
    "| **When Performed**  | Early (before/during development)        | Later (after code is written)                  |\n",
    "| **Type**            | Preventive (avoids bugs)                 | Detective (finds bugs)                         |\n",
    "| **Who Does It**     | Devs, QAs (early phase)                  | QAs, Automation, Clients (after build)         |\n",
    "| **Techniques Used** | Review, Walkthrough, Static Analysis     | Unit, Integration, System, UAT, etc.           |\n",
    "| **Tools**           | SonarQube, ESLint, Pylint                | Selenium, JUnit, Cypress, Postman              |\n",
    "| **Time Saving**     | Saves cost/time if bugs caught early     | Catches run-time issues & real bugs            |\n"
   ]
  },
  {
   "cell_type": "markdown",
   "id": "068deb0e",
   "metadata": {},
   "source": [
    "#### **🧠 Final Take:**\n",
    "\n",
    "> **\"Static Testing** is like wearing a helmet before driving.\n",
    "\n",
    "> **Dynamic Testing** is seeing how the bike performs on the road.\n",
    "\n",
    "> Do both — or risk crashing into production bugs!\" 🪖🏍️💥\n",
    "\n"
   ]
  }
 ],
 "metadata": {
  "language_info": {
   "name": "python"
  }
 },
 "nbformat": 4,
 "nbformat_minor": 5
}
