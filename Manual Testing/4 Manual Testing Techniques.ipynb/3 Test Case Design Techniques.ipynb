{
 "cells": [
  {
   "cell_type": "markdown",
   "id": "3e0b3b79",
   "metadata": {},
   "source": [
    "### **🎯 Test Case Design Techniques**\n",
    "\n",
    "> **“Why test 100 values when you can test 3 and still catch the bug?” 💡**\n",
    "\n",
    "We’ll break down:\n",
    "\n",
    "- **✅ Equivalence Partitioning (EP)**\n",
    "\n",
    "- **🔲 Boundary Value Analysis (BVA)**\n",
    "\n",
    "- **🧾 Decision Table Testing**\n",
    "\n",
    "With **in-depth concepts, real-world examples, scenarios**, and a bit of fun. 😄"
   ]
  },
  {
   "cell_type": "markdown",
   "id": "8b219939",
   "metadata": {},
   "source": [
    "----------"
   ]
  },
  {
   "cell_type": "markdown",
   "id": "b199b043",
   "metadata": {},
   "source": [
    "#### **✅ 1. Equivalence Partitioning (EP)**\n",
    "\n",
    "> *“Group things that behave the same, test one from each group.*\n",
    "\n",
    "#### **🔍 Definition:**\n",
    "\n",
    "Equivalence Partitioning divides input data into **valid and invalid partitions (classes)** where **each value in a partition is expected to behave the same**.\n",
    "You pick **just one representative** from each partition.\n"
   ]
  },
  {
   "cell_type": "markdown",
   "id": "b26f3ea0",
   "metadata": {},
   "source": [
    "#### **🧠 Example Scenario – Equivalence Partitioning**\n",
    "\n",
    "**Field:** Enter age  \n",
    "**Allowed Range:** 18 to 60\n",
    "\n",
    "| Partition Type | Input Range | Example Test Cases | Expected   |\n",
    "|----------------|-------------|--------------------|------------|\n",
    "| ✅ Valid       | 18–60       | 25                 | ✅ Accept  |\n",
    "| ❌ Invalid     | <18         | 16                 | ❌ Reject  |\n",
    "| ❌ Invalid     | >60         | 75                 | ❌ Reject  |\n",
    "\n"
   ]
  },
  {
   "cell_type": "markdown",
   "id": "b002c83d",
   "metadata": {},
   "source": [
    "> Why test all ages from 18 to 60, when one from each range is enough?"
   ]
  },
  {
   "cell_type": "markdown",
   "id": "3da6e9a6",
   "metadata": {},
   "source": [
    "#### **📌 Real-world Analogy:**\n",
    "\n",
    "Think of age as train compartments.\n",
    "\n",
    "- 18 to 60 = 1st class\n",
    "\n",
    "- Below 18 = No ticket\n",
    "\n",
    "- Above 60 = Free pass but train doesn't accept it 😅\n",
    "    You don’t need to test every passenger. Just check a few from each group."
   ]
  },
  {
   "cell_type": "markdown",
   "id": "02394545",
   "metadata": {},
   "source": [
    "----------"
   ]
  },
  {
   "cell_type": "markdown",
   "id": "c1ea8492",
   "metadata": {},
   "source": [
    "#### **🧊 2. Boundary Value Analysis (BVA)**\n",
    "\n",
    "> “Bugs love to hide at the edges.”\n",
    "\n",
    "##### **🔍 Definition:**\n",
    "\n",
    "Test cases are designed around the **boundaries** of input ranges. Why?\n",
    "Because humans (and developers) often mess up `<=`, `>=`, `<`, `>`."
   ]
  },
  {
   "cell_type": "markdown",
   "id": "381dd5dd",
   "metadata": {},
   "source": [
    "#### **🧠 Example Scenario – Boundary Value Analysis (BVA)**\n",
    "\n",
    "**Field:** Enter age  \n",
    "**Allowed Range:** 18 to 60\n",
    "\n",
    "| Test Case       | Value | Expected   |\n",
    "|-----------------|-------|------------|\n",
    "| Minimum - 1     | 17    | ❌ Reject  |\n",
    "| Minimum         | 18    | ✅ Accept  |\n",
    "| Minimum + 1     | 19    | ✅ Accept  |\n",
    "| Maximum - 1     | 59    | ✅ Accept  |\n",
    "| Maximum         | 60    | ✅ Accept  |\n",
    "| Maximum + 1     | 61    | ❌ Reject  |\n"
   ]
  },
  {
   "cell_type": "markdown",
   "id": "270f1f36",
   "metadata": {},
   "source": [
    "#### **📌 Real-world Analogy:**\n",
    "\n",
    "Imagine a roller coaster where allowed height is 120cm–180cm.\n",
    "If a child is 119cm — he’s out. 120cm — barely in. 180cm — fine. 181cm — too tall, bro. 😆\n",
    "\n",
    "Boundary values = where **\"just allowed\"** and **\"just not allowed\"** fight to the death.\n"
   ]
  },
  {
   "cell_type": "markdown",
   "id": "ba5efc48",
   "metadata": {},
   "source": [
    "#### **🔄 Equivalence Partitioning vs Boundary Value Analysis – Quick Summary**\n",
    "\n",
    "| Technique                 | Tests What?           | Focus        | Example (Valid Age: 18–60)                   |\n",
    "|--------------------------|------------------------|--------------|----------------------------------------------|\n",
    "| Equivalence Partitioning | Groups of inputs       | Input class  | ✅ One valid (25), ❌ One invalid (75)         |\n",
    "| Boundary Value Analysis  | Edge values of inputs  | Boundaries   | ✅ 18, 19, 59, 60 / ❌ 17, 61                  |\n"
   ]
  },
  {
   "cell_type": "markdown",
   "id": "637534ff",
   "metadata": {},
   "source": [
    "-----------"
   ]
  },
  {
   "cell_type": "markdown",
   "id": "4988f579",
   "metadata": {},
   "source": [
    "#### **🧾 3. Decision Table Testing**\n",
    "\n",
    "> *“When logic has multiple conditions and combinations, build a decision matrix and test wisely.”*\n",
    "\n",
    "#### **🔍 Definition:**\n",
    "\n",
    "Decision Table Testing helps in **designing test cases for complex business rules**. It maps **conditions and actions** into a table format — like a truth table for testers."
   ]
  },
  {
   "cell_type": "markdown",
   "id": "2448ca12",
   "metadata": {},
   "source": [
    "#### **🧠 Decision Table Example – Loan Approval System**\n",
    "\n",
    "| Condition                  | Rule 1 | Rule 2 | Rule 3 | Rule 4 |\n",
    "|---------------------------|--------|--------|--------|--------|\n",
    "| Age ≥ 18                  | ✅     | ✅     | ❌     | ✅     |\n",
    "| Credit Score > 700        | ✅     | ❌     | ✅     | ❌     |\n",
    "| Income > ₹30K             | ✅     | ✅     | ✅     | ❌     |\n",
    "| **Action: Approve Loan**  | ✅     | ❌     | ❌     | ❌     |\n",
    "\n",
    "\n",
    "You can generate test cases from this logic table.\n",
    "\n",
    "Each **Rule** becomes **1 test case**.\n",
    "\n",
    "-------------"
   ]
  },
  {
   "cell_type": "markdown",
   "id": "beb814ee",
   "metadata": {},
   "source": [
    "#### **📌 Real-world Analogy:**\n",
    "\n",
    "It’s like Netflix suggestions:\n",
    "\n",
    "- If you're over 18 ✅\n",
    "\n",
    "- If your watch history says “mature content” ✅\n",
    "\n",
    "- If you don’t share your account ❌\n",
    "\n",
    "    = You get “Breaking Bad”. 😎\n",
    "\n",
    "    Otherwise, it throws you into Peppa Pig."
   ]
  },
  {
   "cell_type": "markdown",
   "id": "d124f074",
   "metadata": {},
   "source": [
    "#### **🎯 Quick Summary – Test Case Design Techniques**\n",
    "\n",
    "| Technique                | Best For                               | Scenario Example                             |\n",
    "|--------------------------|----------------------------------------|-----------------------------------------------|\n",
    "| Equivalence Partitioning | Dividing inputs into logical groups    | Age input: Valid (18–60), Invalid (<18, >60)  |\n",
    "| Boundary Value Analysis  | Testing edge cases                     | Test 17, 18, 19 and 59, 60, 61                 |\n",
    "| Decision Table           | Complex decision logic with rules      | Loan approval: Age, Credit Score, Income rules|\n"
   ]
  },
  {
   "cell_type": "markdown",
   "id": "826e64d3",
   "metadata": {},
   "source": [
    "#### **🧪 Final Take:**\n",
    "\n",
    "> **EP** = “Let’s test one from every gang.”\n",
    "\n",
    "> **BVA** = “Let’s camp at the border where trouble starts.”\n",
    "\n",
    "> **Decision Table** = “Let’s bring order to chaotic rules and test like chess masters.” ♟️"
   ]
  }
 ],
 "metadata": {
  "language_info": {
   "name": "python"
  }
 },
 "nbformat": 4,
 "nbformat_minor": 5
}
