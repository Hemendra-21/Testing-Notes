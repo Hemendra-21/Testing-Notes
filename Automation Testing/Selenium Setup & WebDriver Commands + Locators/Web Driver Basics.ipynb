{
 "cells": [
  {
   "cell_type": "markdown",
   "id": "15d9f4b1",
   "metadata": {},
   "source": [
    "### **✅ What is WebDriver in Selenium?**"
   ]
  },
  {
   "cell_type": "markdown",
   "id": "76769d0c",
   "metadata": {},
   "source": [
    "\n",
    "`WebDriver` is **your bridge to the browser.**\n",
    "It’s a **Java class/interface** provided by Selenium that lets you **open a browser, visit a page, click stuff, type into fields,** and close it—all using code.\n",
    "\n",
    "Imagine you’re the boss (coder) giving commands like:\n",
    "\n",
    "- “Open Google”\n",
    "\n",
    "- “Type ‘best biryani in Hyderabad’”\n",
    "\n",
    "- “Press Enter”\n",
    "\n",
    "- “Click the first result”\n",
    "\n",
    "WebDriver makes the browser obey these commands. You’re basically turning your browser into your personal intern 😏"
   ]
  },
  {
   "cell_type": "markdown",
   "id": "c3dc1b14",
   "metadata": {},
   "source": [
    "-------"
   ]
  },
  {
   "cell_type": "markdown",
   "id": "6cbe55ff",
   "metadata": {},
   "source": [
    "#### **❓ Why do we use WebDriver?**\n",
    "\n",
    "Because:\n",
    "\n",
    "- It simulates **real user actions** (not just loading a page, but interacting with it)\n",
    "\n",
    "- It supports **multiple browsers** (Chrome, Firefox, Edge, etc.)\n",
    "\n",
    "- It helps in **automated testing** (so you don’t click buttons 1,000 times manually)"
   ]
  },
  {
   "cell_type": "markdown",
   "id": "672b6fe4",
   "metadata": {},
   "source": [
    "---------"
   ]
  },
  {
   "cell_type": "markdown",
   "id": "495909bd",
   "metadata": {},
   "source": [
    "#### **🕐 When to use WebDriver?**\n",
    "\n",
    "Use WebDriver when you want to:\n",
    "\n",
    "- Automate manual testing (like login, signup, search)\n",
    "\n",
    "- Perform repetitive browser tasks\n",
    "\n",
    "- Validate UI flows in QA/testing\n",
    "\n",
    "- Build a testing framework (later on)\n",
    "\n"
   ]
  },
  {
   "cell_type": "markdown",
   "id": "7eeeae1a",
   "metadata": {},
   "source": [
    "--------"
   ]
  },
  {
   "cell_type": "markdown",
   "id": "59324d70",
   "metadata": {},
   "source": [
    "#### **✅ STEP 4: What is `ChromeDriver`?**\n",
    "\n",
    "\n",
    "You can’t just tell Chrome, “Hey, open Flipkart.” It doesn’t care.\n",
    "That’s where `ChromeDriver` comes in.\n",
    "\n",
    "It’s a **small executable (a program)** that acts like a **translator between Selenium and Chrome.**\n",
    "\n",
    "- You: “Open Google”\n",
    "\n",
    "- Selenium: “driver.get(‘https://google.com’);”\n",
    "\n",
    "- ChromeDriver: “Got it boss! Telling Chrome now…”\n",
    "\n",
    "Every browser has its own driver:"
   ]
  },
  {
   "cell_type": "markdown",
   "id": "ebdaa76f",
   "metadata": {},
   "source": [
    "\n",
    "\n",
    "| Browser   | Driver        |\n",
    "|-----------|---------------|\n",
    "| Chrome    | `ChromeDriver`  |\n",
    "| Firefox   | `GeckoDriver`   |\n",
    "| Edge      | `EdgeDriver`    |\n"
   ]
  },
  {
   "cell_type": "markdown",
   "id": "c338b79f",
   "metadata": {},
   "source": [
    "> ⚠️ You must install ChromeDriver separately and set the path in your code.\n",
    "\n",
    "--------"
   ]
  },
  {
   "cell_type": "markdown",
   "id": "b08216a3",
   "metadata": {},
   "source": [
    "#### **✅ STEP 5: Core WebDriver Methods**"
   ]
  },
  {
   "cell_type": "markdown",
   "id": "5235a9f6",
   "metadata": {},
   "source": [
    "#### **🗂️ CATEGORIES of WebDriver Methods:**\n",
    "\n",
    "- **🌍 Browser Navigation & Info Methods**\n",
    "\n",
    "- **🧭 Page Navigation Controls**\n",
    "\n",
    "- **🪟 Browser Window Management**\n",
    "\n",
    "- **🪪 Window & Tab ID Handling**\n",
    "\n",
    "- **🕒 Timeout & Wait Settings**\n",
    "\n",
    "- **⚙️ Page Source, Title, URL Access**"
   ]
  },
  {
   "cell_type": "markdown",
   "id": "7ee624df",
   "metadata": {},
   "source": [
    "-------"
   ]
  },
  {
   "cell_type": "markdown",
   "id": "85c99224",
   "metadata": {},
   "source": [
    "#### **🔹 CATEGORY 1: 🌍 Browser Navigation & Info Methods**"
   ]
  },
  {
   "cell_type": "markdown",
   "id": "57791101",
   "metadata": {},
   "source": [
    "\n",
    "\n",
    "|  # | Method            | What it Does                           | Why it’s Used                             | When to Use                           | Example Code                        |\n",
    "|---:|-------------------|-----------------------------------------|--------------------------------------------|----------------------------------------|-------------------------------------|\n",
    "|  1 | `get(url)`        | Opens the given website                | To start automation on a web page         | First step of any Selenium script     | `driver.get(\"https://google.com\");` |\n",
    "|  2 | `getTitle()`      | Returns the title of the current page  | To check if the correct page is loaded    | After navigating to a page            | `driver.getTitle();`                |\n",
    "|  3 | `getCurrentUrl()` | Returns the current page URL           | To verify navigation/redirection worked   | After an action that changes URL      | `driver.getCurrentUrl();`           |\n",
    "|  4 | `getPageSource()` | Returns entire HTML source of the page | To check for specific content or elements | For debugging or text presence checks | `driver.getPageSource();`           |\n"
   ]
  },
  {
   "cell_type": "markdown",
   "id": "532e96de",
   "metadata": {},
   "source": [
    "#### **🧭 Category 2: Navigation Commands**\n",
    "\n",
    "|  # | Method                 | What it Does                    | Why it’s Used                            | When to Use                                  | Example Code                                 |\n",
    "|---:|------------------------|----------------------------------|-------------------------------------------|-----------------------------------------------|-----------------------------------------------|\n",
    "|  5 | `navigate().to(url)`   | Opens a URL (like `get()`)      | Allows browser-like history tracking     | When you plan to use `back()` or `forward()` | `driver.navigate().to(\"https://amazon.in\");` |\n",
    "|  6 | `navigate().back()`    | Goes back to the previous page  | Simulates browser \"Back\" button          | After navigating to another page             | `driver.navigate().back();`                  |\n",
    "|  7 | `navigate().forward()` | Goes forward in browser history | Simulates browser \"Forward\" button       | After using `back()`                         | `driver.navigate().forward();`               |\n",
    "|  8 | `navigate().refresh()` | Refreshes the current page      | To reload updated content or fix loading | After form actions or dynamic updates        | `driver.navigate().refresh();`               |\n"
   ]
  },
  {
   "cell_type": "code",
   "execution_count": null,
   "id": "ce379ff5",
   "metadata": {
    "vscode": {
     "languageId": "java"
    }
   },
   "outputs": [],
   "source": [
    "// Basic example of these web driver methods.\n",
    "\n",
    "package seleniumDemo1;\n",
    "\n",
    "import org.openqa.selenium.WebDriver;\n",
    "import org.openqa.selenium.chrome.ChromeDriver;\n",
    "\n",
    "public class WebDriverMethods {\n",
    "\n",
    "\tpublic static void main(String[] args) throws InterruptedException {\n",
    "\t\tWebDriver driver = new ChromeDriver();\n",
    "\t\t\n",
    "\t\tdriver.manage().window().maximize();\n",
    "\t\t\n",
    "\t\tdriver.get(\"https://www.wikipedia.org\");\n",
    "\t\tSystem.out.println(\"Current Title: \" + driver.getTitle());\n",
    "\t\tSystem.out.println(\"Current Page URL: \" + driver.getCurrentUrl());\n",
    "\t\tThread.sleep(2000);\n",
    "\t\t\n",
    "\t\t\n",
    "\t\tdriver.navigate().to(\"https://www.selenium.dev\");\n",
    "\t\tSystem.out.println(\"Current Title: \" + driver.getTitle());\n",
    "\t\tSystem.out.println(\"Current Page URL: \" + driver.getCurrentUrl());\n",
    "\t\tThread.sleep(2000);\n",
    "\t\t\n",
    "\t\tdriver.navigate().back();\n",
    "\t\tThread.sleep(2000);\n",
    "\t\t\n",
    "\t\tdriver.navigate().forward();\n",
    "\t\tdriver.navigate().refresh();\n",
    "\t\tThread.sleep(2000);\n",
    "\t\t\n",
    "\t\tSystem.out.println(driver.getPageSource().length());\n",
    "\t\tdriver.quit();\n",
    "\t}\n",
    "}\n"
   ]
  },
  {
   "cell_type": "markdown",
   "id": "22db7fc1",
   "metadata": {},
   "source": [
    "🟢 In Selenium 4.6+, you don't need System.setProperty(...) – WebDriverManager is built-in.\n",
    "\n",
    "🟢 `throws InterruptedException` is used because of Thread.sleep(), which is a checked exception.\n",
    "\n",
    "🟢 Thread.sleep() pauses current thread; can be interrupted by another thread → hence exception is forced.\n"
   ]
  },
  {
   "cell_type": "markdown",
   "id": "42bc73b9",
   "metadata": {},
   "source": [
    "#### **🪟 Category 3: Selenium Window Management Methods**\n",
    "\n",
    "| #  | Method                            | What it Does                          | Why it’s Used                             | When to Use                                 | Example Code                                                      |\n",
    "|----|-----------------------------------|----------------------------------------|--------------------------------------------|----------------------------------------------|-------------------------------------------------------------------|\n",
    "| 9  | `manage().window().maximize()`    | Maximizes the browser window          | To make sure all elements are visible      | Right after launching the browser            | `driver.manage().window().maximize();`                            |\n",
    "| 10 | `manage().window().fullscreen()`  | Fullscreen mode (like F11)            | Needed for kiosk/full-view apps            | If app behaves differently in fullscreen     | `driver.manage().window().fullscreen();`                          |\n",
    "| 11 | `manage().window().minimize()`    | Minimizes the browser window          | To test background/tab switching behavior  | In multi-tasking or popup behavior tests     | `driver.manage().window().minimize();`                            |\n",
    "| 12 | `manage().window().getSize()`     | Gets current browser window size      | For responsive design/layout testing       | When testing width/height programmatically   | `driver.manage().window().getSize();`                             |\n",
    "| 13 | `manage().window().setSize()`     | Sets custom size for the browser      | Simulate small screen (e.g., tablet view)  | When testing responsiveness/mobile views     | `driver.manage().window().setSize(new Dimension(400, 800));`     |\n",
    "| 14 | `manage().window().getPosition()` | Gets current position on screen       | For multi-monitor setups                   | When debugging window placement              | `driver.manage().window().getPosition();`                         |\n",
    "| 15 | `manage().window().setPosition()` | Moves window to specific screen coords| For controlling screen layout              | For visual testing or automation labs        | `driver.manage().window().setPosition(new Point(100, 300));`     |\n"
   ]
  },
  {
   "cell_type": "markdown",
   "id": "68b667fc",
   "metadata": {},
   "source": [
    "#### **Alert & Popup Handling Methods**\n",
    "\n",
    "| #  | Method                  | What it Does                              | Why it’s Used                                 | When to Use                                 | Example Code                               |\n",
    "|----|-------------------------|--------------------------------------------|------------------------------------------------|----------------------------------------------|--------------------------------------------|\n",
    "| 16 | `switchTo().alert()`    | Switches control to an alert popup         | To interact with browser alerts                | When alert appears after form submission     | `Alert alert = driver.switchTo().alert();` |\n",
    "| 17 | `alert.accept()`        | Clicks **OK** on alert                     | To proceed with alert actions                  | For confirmation alerts                      | `alert.accept();`                          |\n",
    "| 18 | `alert.dismiss()`       | Clicks **Cancel** on alert                 | To cancel alert-related actions                | For dismissable alerts (Cancel/Delete)       | `alert.dismiss();`                         |\n",
    "| 19 | `alert.getText()`       | Reads the message on the alert             | To validate alert text                         | Before accepting or dismissing               | `String msg = alert.getText();`            |\n",
    "| 20 | `alert.sendKeys(\"text\")`| Enters text into a prompt alert box        | To input data in JavaScript prompt             | If alert has a text input (prompt)           | `alert.sendKeys(\"Hemendra\");`              |\n"
   ]
  },
  {
   "cell_type": "markdown",
   "id": "ee178cb7",
   "metadata": {},
   "source": [
    "------"
   ]
  },
  {
   "cell_type": "markdown",
   "id": "41ca5cab",
   "metadata": {},
   "source": [
    "### **Window and Tab Handling**"
   ]
  },
  {
   "cell_type": "markdown",
   "id": "e3d7bb5e",
   "metadata": {},
   "source": [
    "#### **🔸 What is Window/Tab Handling?**\n",
    "\n",
    "In Selenium, when a new **tab** or **browser window** opens, it’s treated as a **new window handle**.\n",
    "\n",
    "To interact with it, you need to:\n",
    "\n",
    "- **Get the handle ID** of the current and all windows\n",
    "\n",
    "- **Switch** to the desired window using its ID\n",
    "\n",
    "- **Perform actions** in the new window/tab\n",
    "\n",
    "- **Close** and optionally switch back to original\n",
    "\n"
   ]
  },
  {
   "cell_type": "markdown",
   "id": "c0447eb5",
   "metadata": {},
   "source": [
    "#### **🔧 Common Use Cases: Window/Tab Switching in Selenium**\n",
    "\n",
    "| Scenario                                      | Needs Switching? | Why?                                                                 |\n",
    "|----------------------------------------------|------------------|----------------------------------------------------------------------|\n",
    "| Terms & Conditions link opens a new tab      | ✅ Yes           | New tab means new window handle – you must switch to interact with it |\n",
    "| Login via Google/Facebook opens popup        | ✅ Yes           | A new window (popup) appears – switch required for login steps       |\n",
    "| File upload/download system dialog           | ❌ No            | These are **OS-level dialogs**; Selenium cannot handle them directly |\n",
    "| Manually opening a tab (via JS or shortcut)  | ✅ Yes           | New tab/window requires switching to control via Selenium            |\n"
   ]
  },
  {
   "cell_type": "markdown",
   "id": "67ee6648",
   "metadata": {},
   "source": [
    "#### **🧠 Important Selenium Window/Tab Handling Methods**\n",
    "\n",
    "| Method                         | Purpose                                                       |\n",
    "|-------------------------------|---------------------------------------------------------------|\n",
    "| `driver.getWindowHandle()`     | Returns the **ID of the current** window/tab                 |\n",
    "| `driver.getWindowHandles()`    | Returns a **Set of all open** window/tab IDs                 |\n",
    "| `driver.switchTo().window(id)` | **Switches control** to the window/tab with the given ID     |\n",
    "| `driver.close()`               | **Closes current** window/tab                                |\n",
    "| `driver.quit()`               | **Closes all** windows/tabs and **ends the WebDriver session** |\n"
   ]
  },
  {
   "cell_type": "markdown",
   "id": "fbfc5e65",
   "metadata": {},
   "source": [
    "### **🧪 Example: Real-Time Implementation**"
   ]
  },
  {
   "cell_type": "code",
   "execution_count": null,
   "id": "7bea6004",
   "metadata": {
    "vscode": {
     "languageId": "groovy"
    }
   },
   "outputs": [],
   "source": [
    "WebDriver driver = new ChromeDriver();\n",
    "driver.get(\"https://the-internet.herokuapp.com/windows\");\n",
    "\n",
    "String mainWindow = driver.getWindowHandle(); // current window ID\n",
    "driver.findElement(By.linkText(\"Click Here\")).click(); // opens new tab\n",
    "\n",
    "Set<String> allWindows = driver.getWindowHandles();\n",
    "\n",
    "for (String win : allWindows) {\n",
    "    if (!win.equals(mainWindow)) {\n",
    "        driver.switchTo().window(win); // switch to new tab\n",
    "        System.out.println(\"New tab title: \" + driver.getTitle());\n",
    "        driver.close(); // close the new tab\n",
    "    }\n",
    "}\n",
    "\n",
    "driver.switchTo().window(mainWindow); // back to main tab\n",
    "System.out.println(\"Main tab title: \" + driver.getTitle());\n",
    "driver.quit();"
   ]
  }
 ],
 "metadata": {
  "language_info": {
   "name": "python"
  }
 },
 "nbformat": 4,
 "nbformat_minor": 5
}
