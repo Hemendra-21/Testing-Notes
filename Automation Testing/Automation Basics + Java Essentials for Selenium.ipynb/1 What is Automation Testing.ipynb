{
 "cells": [
  {
   "cell_type": "markdown",
   "id": "b7122118",
   "metadata": {},
   "source": [
    "### **🔍 What is Automation Testing?**"
   ]
  },
  {
   "cell_type": "markdown",
   "id": "f788d8d4",
   "metadata": {},
   "source": [
    "#### **🧠 Imagine this:**\n",
    "\n",
    "You’re a tester in a team.\n",
    "\n",
    "Every time a developer makes a small change in the app, you have to:\n",
    "\n",
    "- Open the login page\n",
    "\n",
    "- Enter the username\n",
    "\n",
    "- Enter the password\n",
    "\n",
    "- Click login\n",
    "\n",
    "- Check if the dashboard shows up\n",
    "\n",
    "- Do this for every browser\n",
    "\n",
    "- Repeat it *daily* (or worse… hourly 😵‍💫)\n",
    "\n",
    "After doing this 20 times, your inner tester whispers:\n",
    "\n",
    "> **“There has to be a better way… or I’m becoming a highly paid button-clicker!” 🧼🖱️**\n",
    "\n",
    "And that, my friend, is **exactly why Automation Testing exists.**"
   ]
  },
  {
   "cell_type": "markdown",
   "id": "698395cb",
   "metadata": {},
   "source": [
    "#### **💡 Definition:**\n",
    "\n",
    "> **Automation Testing** is the process of using software tools/scripts to run tests automatically, compare actual outcomes with expected ones, and report results — **without manual effort after test creation.**\n",
    "\n",
    "In other words:\n",
    "\n",
    "**Write once, test forever. 💻🤖**"
   ]
  },
  {
   "cell_type": "markdown",
   "id": "ba074def",
   "metadata": {},
   "source": [
    "----------"
   ]
  },
  {
   "cell_type": "markdown",
   "id": "ce135f68",
   "metadata": {},
   "source": [
    "#### **🎯 Goal of Automation Testing:**\n",
    "\n",
    "- Save **time** and **effort**\n",
    "\n",
    "- Increase **test coverage**\n",
    "\n",
    "- Improve **accuracy** (humans are cool, but they forget to check edge cases on Friday evenings)\n",
    "\n",
    "- Enable **fast feedback** for developers"
   ]
  },
  {
   "cell_type": "markdown",
   "id": "ca340935",
   "metadata": {},
   "source": [
    "####  **🔁 How It Works – High-Level Flow: Manual Tester vs Automation**\n",
    "\n",
    "| Step       | Manual Tester            | Automation                            |\n",
    "|------------|---------------------------|----------------------------------------|\n",
    "| **Step 1** | Open browser              | Script opens browser                   |\n",
    "| **Step 2** | Enter credentials         | Script sends keys                      |\n",
    "| **Step 3** | Click login               | Script clicks button                   |\n",
    "| **Step 4** | Verify dashboard          | Script compares expected vs actual     |\n",
    "| **Step 5** | Write report              | Script generates HTML report           |\n"
   ]
  },
  {
   "cell_type": "markdown",
   "id": "59ef63e6",
   "metadata": {},
   "source": [
    "\n",
    "> Automation doesn’t just **replace your hands — it enhances your brain’s productivity 🧠⚡**\n"
   ]
  },
  {
   "cell_type": "markdown",
   "id": "2a0fe442",
   "metadata": {},
   "source": [
    "------------"
   ]
  },
  {
   "cell_type": "markdown",
   "id": "4177b96a",
   "metadata": {},
   "source": [
    "### **🎬 Real-World Example**\n",
    "\n",
    "#### **🎯 Scenario: Login Functionality**\n",
    "\n",
    "Let’s say you're testing the login page of an app called \"**Bugster**\" 🐞\n",
    "\n",
    "You test:\n",
    "\n",
    "- Correct username/password → should login\n",
    "\n",
    "- Wrong password → should show error\n",
    "\n",
    "- Empty fields → should show validation\n",
    "\n",
    "Do this once = ✅\n",
    "\n",
    "Do this 100 times across devices = 😖\n",
    "\n",
    "Automate this once = ✅ + 🔁 + 😎\n",
    "\n"
   ]
  },
  {
   "cell_type": "code",
   "execution_count": null,
   "id": "ea884035",
   "metadata": {
    "vscode": {
     "languageId": "java"
    }
   },
   "outputs": [],
   "source": [
    "WebDriver driver = new ChromeDriver();\n",
    "driver.get(\"https://bugster-login.com\");\n",
    "driver.findElement(By.id(\"username\")).sendKeys(\"HemendraQA\");\n",
    "driver.findElement(By.id(\"password\")).sendKeys(\"password123\");\n",
    "driver.findElement(By.id(\"loginButton\")).click();\n",
    "\n",
    "String actual = driver.findElement(By.id(\"welcomeMessage\")).getText();\n",
    "Assert.assertEquals(actual, \"Welcome Hemendra!\");"
   ]
  },
  {
   "cell_type": "markdown",
   "id": "462cedf8",
   "metadata": {},
   "source": [
    "Run this on:\n",
    "\n",
    "- Chrome\n",
    "\n",
    "- Firefox\n",
    "\n",
    "- Edge\n",
    "\n",
    "- Mobile emulation\n",
    "\n",
    "While you sip coffee ☕ or watch memes.\n"
   ]
  },
  {
   "cell_type": "markdown",
   "id": "ff468821",
   "metadata": {},
   "source": [
    "------"
   ]
  },
  {
   "cell_type": "markdown",
   "id": "5579a386",
   "metadata": {},
   "source": [
    "#### **📈 Types of Tests That Can Be Automated – With Emojis**\n",
    "\n",
    "| ✅ Great Candidates                              | ❌ Bad Candidates                               |\n",
    "|--------------------------------------------------|-------------------------------------------------|\n",
    "| 🔁 **Regression Tests** – Run again & again      | 🧪 **One-time Tests** – No long-term value       |\n",
    "| 🔂 **Repetitive Flows** – Same steps, every time | 🔍 **UI Exploratory Tests** – Need human judgment|\n",
    "| 🔥 **Smoke/Sanity** – Quick stability checks     | 🖼️ **Constantly Changing UIs** – Break often     |\n",
    "| 📊 **Data-driven Tests** – Inputs vary, logic same| 🎲 **Random/Non-repeatable scenarios** – Not predictable |\n",
    "| 🌐 **Cross-browser** – Chrome, Firefox, Safari   | 🛠️ **First-time development** – Changes frequently |\n"
   ]
  },
  {
   "cell_type": "markdown",
   "id": "17f3e2d8",
   "metadata": {},
   "source": [
    "> **💡 Tip: Automate the *boring & repeatable*, not the *creative & changing!***"
   ]
  }
 ],
 "metadata": {
  "language_info": {
   "name": "python"
  }
 },
 "nbformat": 4,
 "nbformat_minor": 5
}
