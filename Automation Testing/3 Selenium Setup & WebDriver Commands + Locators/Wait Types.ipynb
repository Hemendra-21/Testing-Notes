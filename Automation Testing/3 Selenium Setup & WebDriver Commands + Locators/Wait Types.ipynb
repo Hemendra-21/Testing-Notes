{
 "cells": [
  {
   "cell_type": "markdown",
   "id": "07ef0965",
   "metadata": {},
   "source": [
    "### **⏱️ Timeouts and Waits in Selenium WebDriver**"
   ]
  },
  {
   "cell_type": "markdown",
   "id": "da020212",
   "metadata": {},
   "source": [
    "#### **🧠 Why Waits Matter?**\n",
    "\n",
    "Modern websites are dynamic — elements take **time to load**, appear/disappear, or change.\n",
    "\n",
    "Without proper waits:\n",
    "\n",
    "- ❌ Script may **fail randomly**\n",
    "\n",
    "- ❌ You may get **NoSuchElementException**\n",
    "\n",
    "- ❌ You'll go mad debugging timing issues 😵\n",
    "\n",
    "So Selenium gives you **different waiting strategies.**"
   ]
  },
  {
   "cell_type": "markdown",
   "id": "e0d6fb30",
   "metadata": {},
   "source": [
    "#### **✅ Selenium Wait Types (with Purpose)**\n",
    "\n",
    "| Type             | Use Case                          | When to Use?                                   |\n",
    "|------------------|-----------------------------------|------------------------------------------------|\n",
    "| Implicit Wait    | Global delay while finding elements | When elements take time to appear randomly     |\n",
    "| Explicit Wait    | Wait for a specific condition      | Waiting for visibility/clickability of button, text, pop-up etc. |\n",
    "| Fluent Wait      | Advanced explicit wait with polling | Retry strategy for highly dynamic or flaky elements |\n",
    "| PageLoadTimeout  | Wait for full page to load         | For pages that take time to fully render/load  |\n",
    "| ScriptTimeout    | Wait for JavaScript to finish      | If using `JavascriptExecutor` in your tests    |\n"
   ]
  },
  {
   "cell_type": "markdown",
   "id": "899d9d9c",
   "metadata": {},
   "source": [
    "----------"
   ]
  },
  {
   "cell_type": "markdown",
   "id": "17be27b8",
   "metadata": {},
   "source": [
    "#### **🔹 STEP 1: Implicit Wait**"
   ]
  },
  {
   "cell_type": "markdown",
   "id": "8de88853",
   "metadata": {},
   "source": [
    "##### **📘 What is it?**\n",
    "\n",
    "Implicit Wait tells WebDriver to **wait for a specified time while searching for elements** before throwing `NoSuchElementException`.\n",
    "\n",
    "> 💡 Think of it like a lazy waiter:\n",
    "\n",
    "> “I’ll hang around **just in case** the button shows up in the next 10 seconds…”"
   ]
  },
  {
   "cell_type": "code",
   "execution_count": null,
   "id": "605b1312",
   "metadata": {
    "vscode": {
     "languageId": "plaintext"
    }
   },
   "outputs": [],
   "source": [
    "driver.manage().timeouts().implicitlyWait(Duration.ofSeconds(10));"
   ]
  },
  {
   "cell_type": "markdown",
   "id": "9bb040dc",
   "metadata": {},
   "source": [
    "📌 Once set, it applies **globally** to all `findElement()` calls — no need to write it again and again.\n"
   ]
  },
  {
   "cell_type": "markdown",
   "id": "839be5e8",
   "metadata": {},
   "source": [
    "##### **🧪 Practical Use Case:**\n",
    "\n",
    "Let’s say you visit a webpage where the **login button** takes a couple of seconds to render after page load.\n",
    "\n",
    "Instead of writing:"
   ]
  },
  {
   "cell_type": "code",
   "execution_count": null,
   "id": "a59e495a",
   "metadata": {
    "vscode": {
     "languageId": "plaintext"
    }
   },
   "outputs": [],
   "source": [
    "WebElement loginBtn = driver.findElement(By.id(\"login\")); // might fail if slow"
   ]
  },
  {
   "cell_type": "markdown",
   "id": "d9d65326",
   "metadata": {},
   "source": [
    "You do:"
   ]
  },
  {
   "cell_type": "code",
   "execution_count": null,
   "id": "16de4977",
   "metadata": {
    "vscode": {
     "languageId": "plaintext"
    }
   },
   "outputs": [],
   "source": [
    "driver.manage().timeouts().implicitlyWait(Duration.ofSeconds(10));\n",
    "WebElement loginBtn = driver.findElement(By.id(\"login\")); // waits up to 10s"
   ]
  },
  {
   "cell_type": "markdown",
   "id": "e2a20f1b",
   "metadata": {},
   "source": [
    "🎯 This prevents flaky tests due to slow loading UI elements.\n",
    "\n",
    "**⚠️ Pro Tip:**\n",
    "\n",
    "- **Set it only once** at the beginning of the script.\n",
    "\n",
    "- **Avoid combining Implicit + Explicit Wait** — it may cause unpredictable timeout behavior."
   ]
  },
  {
   "cell_type": "markdown",
   "id": "2d814754",
   "metadata": {},
   "source": [
    "--------------------"
   ]
  },
  {
   "cell_type": "markdown",
   "id": "262bd959",
   "metadata": {},
   "source": [
    "#### **🔹 STEP 2: PageLoad Timeout**"
   ]
  },
  {
   "cell_type": "markdown",
   "id": "f63069f7",
   "metadata": {},
   "source": [
    "🧠 What is PageLoadTimeout?\n",
    "\n",
    "- It controls how long Selenium waits for the full page to load after using `driver.get(url)`\n",
    "\n",
    "- If the page takes more than the specified time, Selenium throws a `TimeoutException`"
   ]
  },
  {
   "cell_type": "markdown",
   "id": "c1229ee0",
   "metadata": {},
   "source": [
    "#### **🔧 When to Use?**"
   ]
  },
  {
   "cell_type": "markdown",
   "id": "3603801a",
   "metadata": {},
   "source": [
    "| Scenario                                          | Use PageLoadTimeout? |\n",
    "| ------------------------------------------------- | -------------------- |\n",
    "| Page has slow network calls                       | ✅ Yes                |\n",
    "| Third-party scripts taking too long               | ✅ Yes                |\n",
    "| You want your test to fail fast on broken pages   | ✅ Yes                |\n",
    "| All elements are already present in DOM instantly | ❌ Not needed         |\n"
   ]
  },
  {
   "cell_type": "markdown",
   "id": "0fbf2b8f",
   "metadata": {},
   "source": [
    "#### **✅ Practical Example (Slow Page Load Simulation)**\n",
    "\n",
    "We'll use the same site but **simulate slowness** by:\n",
    "\n",
    "- Setting very low timeout (e.g., 2s)\n",
    "\n",
    "- And opening a normal page that **takes ~3s to load**"
   ]
  },
  {
   "cell_type": "code",
   "execution_count": null,
   "id": "713f0559",
   "metadata": {
    "vscode": {
     "languageId": "java"
    }
   },
   "outputs": [],
   "source": [
    "package seleniumDemo1;\n",
    "\n",
    "import java.time.Duration;\n",
    "\n",
    "import org.openqa.selenium.WebDriver;\n",
    "import org.openqa.selenium.chrome.ChromeDriver;\n",
    "\n",
    "public class PageLoadTimeoutDemo {\n",
    "    public static void main(String[] args) {\n",
    "        WebDriver driver = new ChromeDriver();\n",
    "\n",
    "        // ❗ Set page load timeout to only 2 seconds\n",
    "        driver.manage().timeouts().pageLoadTimeout(Duration.ofSeconds(2));\n",
    "\n",
    "        try {\n",
    "            // 🔗 Try to load a real page that takes ~2-3 seconds\n",
    "            driver.get(\"https://the-internet.herokuapp.com/slow\");\n",
    "\n",
    "            System.out.println(\"✅ Page loaded successfully!\");\n",
    "        } catch (Exception e) {\n",
    "            System.out.println(\"❌ Page took too long to load or failed: \" + e.getMessage());\n",
    "        }\n",
    "\n",
    "        driver.quit();\n",
    "    }\n",
    "}"
   ]
  },
  {
   "cell_type": "markdown",
   "id": "4f0baaad",
   "metadata": {},
   "source": [
    "**🧪 What to Expect?**\n",
    "\n",
    "- If the page loads within **2 seconds**, it’ll say:"
   ]
  },
  {
   "cell_type": "code",
   "execution_count": null,
   "id": "fc88bf60",
   "metadata": {
    "vscode": {
     "languageId": "java"
    }
   },
   "outputs": [],
   "source": [
    "✅ Page loaded successfully!"
   ]
  },
  {
   "cell_type": "markdown",
   "id": "b03e815d",
   "metadata": {},
   "source": [
    "- If it doesn’t, you’ll get:"
   ]
  },
  {
   "cell_type": "code",
   "execution_count": null,
   "id": "0b3c76d8",
   "metadata": {
    "vscode": {
     "languageId": "java"
    }
   },
   "outputs": [],
   "source": [
    "❌ Page took too long to load or failed: timeout..."
   ]
  },
  {
   "cell_type": "markdown",
   "id": "9ffa1546",
   "metadata": {},
   "source": [
    "Try changing the `pageLoadTimeout` to 5–10 seconds to see the difference."
   ]
  },
  {
   "cell_type": "markdown",
   "id": "bbaad376",
   "metadata": {},
   "source": [
    "-----------"
   ]
  },
  {
   "cell_type": "markdown",
   "id": "59b355f9",
   "metadata": {},
   "source": [
    "#### **✅ What is Explicit Wait?**\n",
    "\n",
    "Explicit Wait lets you **wait for a specific condition** (like element becoming visible, clickable, etc.) before moving forward.\n",
    "\n",
    "It's more **precise and smarter** than implicit wait."
   ]
  },
  {
   "cell_type": "markdown",
   "id": "476ae90d",
   "metadata": {},
   "source": [
    "#### **🔍 Real-Life Analogy:**\n",
    "\n",
    "> “Don’t keep standing in the lobby for 10 seconds just hoping the pizza arrives (implicit)…\n",
    "\n",
    "> Instead, wait only until the doorbell rings! (explicit)” 🍕"
   ]
  },
  {
   "cell_type": "markdown",
   "id": "583fcebe",
   "metadata": {},
   "source": [
    "#### **🧪 Use Case:**\n",
    "\n",
    "- Wait for a success message to **appear after clicking a button**\n",
    "\n",
    "- Wait until a **loading spinner disappears**\n",
    "\n",
    "- Wait for an alert to **pop up**\n",
    "\n",
    "- Wait until an element is **clickable**"
   ]
  },
  {
   "cell_type": "markdown",
   "id": "3c71b982",
   "metadata": {},
   "source": [
    "#### **✅ Sample Code – Wait for Message After Clicking “Remove” Button**\n",
    "\n",
    "You already used this URL:\n",
    "\n",
    "`https://the-internet.herokuapp.com/dynamic_controls`\n",
    "\n",
    "Now do it with **Explicit Wait:**"
   ]
  },
  {
   "cell_type": "code",
   "execution_count": null,
   "id": "72489a9d",
   "metadata": {
    "vscode": {
     "languageId": "java"
    }
   },
   "outputs": [],
   "source": [
    "package seleniumDemo1;\n",
    "\n",
    "import java.time.Duration;\n",
    "\n",
    "import org.openqa.selenium.By;\n",
    "import org.openqa.selenium.WebDriver;\n",
    "import org.openqa.selenium.WebElement;\n",
    "import org.openqa.selenium.chrome.ChromeDriver;\n",
    "import org.openqa.selenium.support.ui.WebDriverWait;\n",
    "import org.openqa.selenium.support.ui.ExpectedConditions;\n",
    "\n",
    "public class ExplicitWaitExample {\n",
    "    public static void main(String[] args) {\n",
    "        WebDriver driver = new ChromeDriver();\n",
    "\n",
    "        driver.manage().window().maximize();\n",
    "        driver.get(\"https://the-internet.herokuapp.com/dynamic_controls\");\n",
    "\n",
    "        WebElement removeButton = driver.findElement(By.xpath(\"//form[@id='checkbox-example']//button\"));\n",
    "        removeButton.click();\n",
    "\n",
    "        // ⏳ Explicit Wait\n",
    "        WebDriverWait wait = new WebDriverWait(driver, Duration.ofSeconds(10));\n",
    "        WebElement message = wait.until(ExpectedConditions.visibilityOfElementLocated(By.id(\"message\")));\n",
    "\n",
    "        System.out.println(\"✅ Message displayed: \" + message.getText());\n",
    "\n",
    "        driver.quit();\n",
    "    }\n",
    "}"
   ]
  },
  {
   "cell_type": "markdown",
   "id": "677de990",
   "metadata": {},
   "source": [
    "#### **🔍 What just happened?**\n",
    "\n",
    "- Clicked the **Remove** button\n",
    "\n",
    "- Waited **until message with ID** `message` **becomes visible**\n",
    "\n",
    "- Then printed the message 💬"
   ]
  },
  {
   "cell_type": "markdown",
   "id": "af510561",
   "metadata": {},
   "source": [
    "#### **🔧 Common Expected Conditions:**"
   ]
  },
  {
   "cell_type": "markdown",
   "id": "97beb208",
   "metadata": {},
   "source": [
    "| Condition                        | Use When                      |\n",
    "| -------------------------------- | ----------------------------- |\n",
    "| `visibilityOfElementLocated()`   | Waiting for element to appear |\n",
    "| `elementToBeClickable()`         | Wait before clicking buttons  |\n",
    "| `alertIsPresent()`               | Waiting for alerts            |\n",
    "| `invisibilityOfElementLocated()` | Wait for loader/spinner to go |\n"
   ]
  },
  {
   "cell_type": "markdown",
   "id": "9c608257",
   "metadata": {},
   "source": [
    "----------"
   ]
  },
  {
   "cell_type": "markdown",
   "id": "4a25b0fa",
   "metadata": {},
   "source": [
    "#### **✅ What is Fluent Wait?**\n",
    "\n",
    "Fluent Wait is like an **advanced Explicit Wait**.\n",
    "\n",
    "It not only waits for a condition — it also:\n",
    "\n",
    "- ⏱️ **Polls** repeatedly (e.g., every 2 seconds)\n",
    "\n",
    "- ❌ Ignores specific exceptions (like `NoSuchElementException`)\n",
    "\n",
    "- 🧠 Gives you **fine control** over retrying"
   ]
  },
  {
   "cell_type": "markdown",
   "id": "e6387e49",
   "metadata": {},
   "source": [
    "#### **🔍 Real-Life Analogy:**\n",
    "\n",
    "> “You’re waiting for your friend to come online. You check every 2 seconds, but you ignore if he’s offline (no error). You’ll keep checking for 15 seconds before giving up.” 🕵️‍♂️"
   ]
  },
  {
   "cell_type": "markdown",
   "id": "e772283c",
   "metadata": {},
   "source": [
    "#### **✅ When to Use Fluent Wait?**\n",
    "\n",
    "- The element may appear **randomly**\n",
    "\n",
    "- API or AJAX response times vary\n",
    "\n",
    "- You want **custom polling intervals**\n",
    "\n",
    "- You want to **ignore certain exceptions**\n",
    "\n"
   ]
  },
  {
   "cell_type": "markdown",
   "id": "939480b3",
   "metadata": {},
   "source": [
    "#### **🧪 Example: Wait for Message After Clicking Remove (with Fluent Wait)**"
   ]
  },
  {
   "cell_type": "code",
   "execution_count": null,
   "id": "003ec7d2",
   "metadata": {
    "vscode": {
     "languageId": "java"
    }
   },
   "outputs": [],
   "source": [
    "package seleniumDemo1;\n",
    "\n",
    "import java.time.Duration;\n",
    "import java.util.NoSuchElementException;\n",
    "\n",
    "import org.openqa.selenium.By;\n",
    "import org.openqa.selenium.WebDriver;\n",
    "import org.openqa.selenium.WebElement;\n",
    "import org.openqa.selenium.chrome.ChromeDriver;\n",
    "import org.openqa.selenium.support.ui.FluentWait;\n",
    "import org.openqa.selenium.support.ui.Wait;\n",
    "import org.openqa.selenium.support.ui.ExpectedConditions;\n",
    "\n",
    "public class FluentWaitExample {\n",
    "    public static void main(String[] args) {\n",
    "        WebDriver driver = new ChromeDriver();\n",
    "        driver.get(\"https://the-internet.herokuapp.com/dynamic_controls\");\n",
    "\n",
    "        WebElement removeButton = driver.findElement(By.xpath(\"//form[@id='checkbox-example']//button\"));\n",
    "        removeButton.click();\n",
    "\n",
    "        // 🕰️ Fluent Wait setup\n",
    "        Wait<WebDriver> fluentWait = new FluentWait<>(driver)\n",
    "            .withTimeout(Duration.ofSeconds(15))          // Max wait time\n",
    "            .pollingEvery(Duration.ofSeconds(2))          // Poll every 2 secs\n",
    "            .ignoring(NoSuchElementException.class);      // Ignore this exception\n",
    "\n",
    "        // ✅ Waiting for message to be visible\n",
    "        WebElement message = fluentWait.until(ExpectedConditions.visibilityOfElementLocated(By.id(\"message\")));\n",
    "\n",
    "        System.out.println(\"✅ Message with Fluent Wait: \" + message.getText());\n",
    "\n",
    "        driver.quit();\n",
    "    }\n",
    "}"
   ]
  },
  {
   "cell_type": "markdown",
   "id": "65d58ca9",
   "metadata": {},
   "source": [
    "#### **🎯 Key Differences – Explicit vs Fluent**\n",
    "\n",
    "| Feature            | Explicit Wait   | Fluent Wait            |\n",
    "| ------------------ | --------------- | ---------------------- |\n",
    "| Polling control    | ❌ Not available | ✅ Yes (e.g., every 2s) |\n",
    "| Exception handling | ❌ Default only  | ✅ You choose to ignore |\n",
    "| Use case           | Most scenarios  | Unpredictable delays   |\n"
   ]
  },
  {
   "cell_type": "markdown",
   "id": "1cddaa4d",
   "metadata": {},
   "source": [
    "---------"
   ]
  },
  {
   "cell_type": "markdown",
   "id": "35887eba",
   "metadata": {},
   "source": [
    "#### **✅ What is Script Timeout?**\n",
    "\n",
    "Script Timeout is used when **executing JavaScript code** via Selenium’s `JavascriptExecutor`.\n",
    "\n",
    "It tells the driver:\n",
    "\n",
    "> “⏳ Wait this long for any JavaScript to complete execution… or just give up!”"
   ]
  },
  {
   "cell_type": "markdown",
   "id": "c68efdf1",
   "metadata": {},
   "source": [
    "#### **🔍 Real-Life Analogy:**\n",
    "\n",
    "> You ask your friend to do a task, and say: “If you don’t finish it in 10 seconds, I’m out.” 😤\n",
    "\n",
    "> That’s what `scriptTimeout` does for browser scripts."
   ]
  },
  {
   "cell_type": "markdown",
   "id": "23b6e399",
   "metadata": {},
   "source": [
    "#### **🎯 When Do You Need Script Timeout?**\n",
    "\n",
    "- You’re using `JavascriptExecutor` for actions like:\n",
    "\n",
    "    - Triggering async JS events\n",
    "\n",
    "    - Working with client-side validations\n",
    "\n",
    "    - Running custom animations or heavy scripts\n",
    "\n",
    "- Your JS might take some time to complete\n",
    "\n",
    "- You want to **avoid getting stuck forever**\n",
    "\n"
   ]
  },
  {
   "cell_type": "markdown",
   "id": "16aa6f43",
   "metadata": {},
   "source": [
    "#### **🧪 Code Example – Script Timeout**"
   ]
  },
  {
   "cell_type": "code",
   "execution_count": null,
   "id": "4c26451a",
   "metadata": {
    "vscode": {
     "languageId": "java"
    }
   },
   "outputs": [],
   "source": [
    "package seleniumDemo1;\n",
    "\n",
    "import java.time.Duration;\n",
    "import org.openqa.selenium.JavascriptExecutor;\n",
    "import org.openqa.selenium.WebDriver;\n",
    "import org.openqa.selenium.chrome.ChromeDriver;\n",
    "\n",
    "public class ScriptTimeoutDemo {\n",
    "    public static void main(String[] args) {\n",
    "        WebDriver driver = new ChromeDriver();\n",
    "\n",
    "        // ⏱️ Set script timeout (max wait for JS to complete)\n",
    "        driver.manage().timeouts().scriptTimeout(Duration.ofSeconds(10));\n",
    "\n",
    "        driver.get(\"https://the-internet.herokuapp.com/\");\n",
    "\n",
    "        // ✅ JavaScriptExecutor for a dummy script\n",
    "        JavascriptExecutor js = (JavascriptExecutor) driver;\n",
    "\n",
    "        // Running a small JS that simulates async delay\n",
    "        String script = \"return new Promise(resolve => setTimeout(() => resolve('✅ JS done!'), 3000));\";\n",
    "        Object result = js.executeAsyncScript(script);\n",
    "\n",
    "        System.out.println(\"Result from JavaScript: \" + result);\n",
    "\n",
    "        driver.quit();\n",
    "    }\n",
    "}\n"
   ]
  },
  {
   "cell_type": "markdown",
   "id": "3854753c",
   "metadata": {},
   "source": [
    "**⚠️ Note:**\n",
    "\n",
    "- Script Timeout only applies to **async scripts**\n",
    "\n",
    "- Regular `executeScript()` will NOT trigger this timeout"
   ]
  },
  {
   "cell_type": "markdown",
   "id": "111e4b9e",
   "metadata": {},
   "source": [
    "#### **✅ Summary of All Waits:**\n",
    "\n",
    "| Type              | When to Use                               |\n",
    "| ----------------- | ----------------------------------------- |\n",
    "| `ImplicitWait`    | When elements take a bit of time globally |\n",
    "| `ExplicitWait`    | For specific elements or conditions       |\n",
    "| `FluentWait`      | For uncertain delays and retrying logic   |\n",
    "| `PageLoadTimeout` | For full page to load                     |\n",
    "| `ScriptTimeout`   | When executing **async JavaScript**       |\n"
   ]
  }
 ],
 "metadata": {
  "language_info": {
   "name": "python"
  }
 },
 "nbformat": 4,
 "nbformat_minor": 5
}
