{
 "cells": [
  {
   "cell_type": "markdown",
   "id": "25a1f34d",
   "metadata": {},
   "source": [
    "### **✅ STEP 1: Installing Eclipse IDE for Java Developers**\n",
    "\n",
    "#### **🧩 What is Eclipse?**\n",
    "\n",
    "> Eclipse is an IDE (Integrated Development Environment) that helps you **write, run, and manage Java code.**\n",
    "    Imagine Notepad++ on steroids—with buttons, auto-completion, project management, and debugger powers 🧠⚙️"
   ]
  },
  {
   "cell_type": "markdown",
   "id": "47cdc3df",
   "metadata": {},
   "source": [
    "#### **🔧 What You'll Install:**\n",
    "\n",
    "We will install:\n",
    "\n",
    "- Eclipse IDE for Java Developers\n",
    "\n",
    "- Make sure **JDK** is installed before Eclipse (Java won't work without it)"
   ]
  },
  {
   "cell_type": "markdown",
   "id": "0c7a66d9",
   "metadata": {},
   "source": [
    "##### **Dowloading steps:**\n",
    " \n",
    "- 1.Jdk ----> javac –v \n",
    "  -  `sudo apt install openjdk-21-jdk-headless` \n",
    " \n",
    "- 2.Eclipse----> \n",
    "  - `sudo snap install eclipse –classic` \n",
    " \n",
    "- 3.Go to eclipse and create new maven project and add one tag in pom.xml called \n",
    " `<dependency> </dependency>` \n",
    " \n",
    "- 4.Maven repo (online) ---> search selenium and click on selenium java and select which having high usage and copy the code and paste it in dependency tag \n",
    " \n",
    "- 5.After that create one class and start using it. "
   ]
  }
 ],
 "metadata": {
  "language_info": {
   "name": "python"
  }
 },
 "nbformat": 4,
 "nbformat_minor": 5
}
